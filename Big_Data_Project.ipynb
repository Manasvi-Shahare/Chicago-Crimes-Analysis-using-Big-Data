{
  "cells": [
    {
      "cell_type": "markdown",
      "metadata": {
        "id": "view-in-github",
        "colab_type": "text"
      },
      "source": [
        "<a href=\"https://colab.research.google.com/github/Manasvi-Shahare/Chicago-Crimes-Analysis-using-Big-Data/blob/main/Big_Data_Project.ipynb\" target=\"_parent\"><img src=\"https://colab.research.google.com/assets/colab-badge.svg\" alt=\"Open In Colab\"/></a>"
      ]
    },
    {
      "cell_type": "code",
      "execution_count": null,
      "metadata": {
        "id": "i6Ea8LRShpJZ",
        "outputId": "b9d35525-6f4e-4e10-8a54-13c278056111"
      },
      "outputs": [
        {
          "name": "stdout",
          "output_type": "stream",
          "text": [
            "Requirement already satisfied: pyspark in ./opt/anaconda3/lib/python3.8/site-packages (3.3.1)\n",
            "Requirement already satisfied: py4j==0.10.9.5 in ./opt/anaconda3/lib/python3.8/site-packages (from pyspark) (0.10.9.5)\n",
            "Note: you may need to restart the kernel to use updated packages.\n"
          ]
        }
      ],
      "source": [
        "pip install pyspark"
      ]
    },
    {
      "cell_type": "code",
      "execution_count": null,
      "metadata": {
        "id": "IiaxUZjThpJd",
        "outputId": "b4db2713-8f07-481c-f00a-5552e3eccd2a"
      },
      "outputs": [
        {
          "name": "stdout",
          "output_type": "stream",
          "text": [
            "zsh:1: command not found: apt-get\n",
            "zsh:1: command not found: wget\n",
            "tar: Error opening archive: Failed to open 'spark-2.4.5-bin-hadoop2.7.tgz'\n"
          ]
        }
      ],
      "source": [
        "!apt-get install openjdk-8-jdk-headless -qq > /dev/null\n",
        "!wget -q https://www-us.apache.org/dist/spark/spark-2.4.5/spark-2.4.5-bin-hadoop2.7.tgz\n",
        "!tar xf spark-2.4.5-bin-hadoop2.7.tgz\n",
        "!pip install -q findspark"
      ]
    },
    {
      "cell_type": "code",
      "execution_count": null,
      "metadata": {
        "id": "4UiwqPk0hpJe"
      },
      "outputs": [],
      "source": [
        "import os\n",
        "os.environ[\"JAVA_HOME\"] = \"/usr/lib/jvm/java-8-openjdk-amd64\"\n",
        "os.environ[\"SPARK_HOME\"] = \"/content/spark-2.4.5-bin-hadoop2.7\""
      ]
    },
    {
      "cell_type": "code",
      "execution_count": null,
      "metadata": {
        "id": "-p4Z_djvhpJe"
      },
      "outputs": [],
      "source": [
        "from pyspark import SparkContext\n",
        "from pyspark.sql import SparkSession\n",
        "from pyspark.sql import DataFrame\n",
        "import csv\n",
        "from pyspark.sql.types import *\n",
        "from pyspark.sql.functions import format_number, when\n",
        "import pyspark.sql.functions as F"
      ]
    },
    {
      "cell_type": "code",
      "execution_count": null,
      "metadata": {
        "id": "qRGKt1TthpJf"
      },
      "outputs": [],
      "source": [
        "import pandas as pd\n",
        "import matplotlib.pyplot as plt\n",
        "import seaborn as sns\n",
        "import numpy as np\n",
        "\n",
        "from sklearn.model_selection import train_test_split, cross_val_score\n",
        "from sklearn.neighbors import KNeighborsClassifier\n",
        "from sklearn import metrics\n",
        "from sklearn.preprocessing import StandardScaler\n",
        "from sklearn.preprocessing import LabelEncoder"
      ]
    },
    {
      "cell_type": "code",
      "execution_count": null,
      "metadata": {
        "id": "wKsNizUShpJf"
      },
      "outputs": [],
      "source": [
        "spark = SparkSession.builder.appName(\"Big Data Project\")\\\n",
        ".config(\"spark.some.config.option\", \"some-value\")\\\n",
        ".config(\"spark.driver.memory\", \"20g\")\\\n",
        ".config(\"spark.driver.cores\", '3')\\\n",
        ".getOrCreate()"
      ]
    },
    {
      "cell_type": "code",
      "execution_count": null,
      "metadata": {
        "id": "KGo8RmCGhpJg"
      },
      "outputs": [],
      "source": [
        "crimes_schema = StructType([StructField(\"ID\", IntegerType(), True),\n",
        "                            StructField(\"Case Number\", StringType(), True),\n",
        "                            StructField(\"Date\", StringType(), True ),\n",
        "                            StructField(\"Block\", StringType(), True),\n",
        "                            StructField(\"IUCR\", StringType(), True),\n",
        "                            StructField(\"Primary Type\", StringType(), True  ),\n",
        "                            StructField(\"Description\", StringType(), True ),\n",
        "                            StructField(\"Location Description\", StringType(), True ),\n",
        "                            StructField(\"Arrest\", BooleanType(), True),\n",
        "                            StructField(\"Domestic\", BooleanType(), True),\n",
        "                            StructField(\"Beat\", IntegerType(), True),\n",
        "                            StructField(\"District\", IntegerType(), True),\n",
        "                            StructField(\"Ward\", IntegerType(), True),\n",
        "                            StructField(\"Community Area\", IntegerType(), True),\n",
        "                            StructField(\"FBI Code\", StringType(), True ),\n",
        "                            StructField(\"X Coordinate\", IntegerType(), True),\n",
        "                            StructField(\"Y Coordinate\", IntegerType(), True ),\n",
        "                            StructField(\"Year\", IntegerType(), True),\n",
        "                            StructField(\"Updated On\", StringType(), True ),\n",
        "                            StructField(\"Latitude\", DoubleType(), True),\n",
        "                            StructField(\"Longitude\", DoubleType(), True),\n",
        "                            StructField(\"Location\", StringType(), True )\n",
        "                            ])"
      ]
    },
    {
      "cell_type": "code",
      "execution_count": null,
      "metadata": {
        "id": "LI6m6zCGhpJh"
      },
      "outputs": [],
      "source": [
        "df = spark.read.csv('/Users/user/Desktop/Big Data/Project/Crimes_-_2001_to_Present.csv',header = True,schema = crimes_schema)"
      ]
    },
    {
      "cell_type": "code",
      "execution_count": null,
      "metadata": {
        "id": "U-Xq_ZxChpJh",
        "outputId": "fe430b97-2f78-488e-c050-72a4387ef878"
      },
      "outputs": [
        {
          "data": {
            "text/plain": [
              "[Row(ID=10224738, Case Number='HY411648', Date='09/05/2015 01:30:00 PM', Block='043XX S WOOD ST', IUCR='0486', Primary Type='BATTERY', Description='DOMESTIC BATTERY SIMPLE', Location Description='RESIDENCE', Arrest=False, Domestic=True, Beat=924, District=9, Ward=12, Community Area=61, FBI Code='08B', X Coordinate=1165074, Y Coordinate=1875917, Year=2015, Updated On='02/10/2018 03:50:01 PM', Latitude=41.815117282, Longitude=-87.669999562, Location='(41.815117282, -87.669999562)'),\n",
              " Row(ID=10224739, Case Number='HY411615', Date='09/04/2015 11:30:00 AM', Block='008XX N CENTRAL AVE', IUCR='0870', Primary Type='THEFT', Description='POCKET-PICKING', Location Description='CTA BUS', Arrest=False, Domestic=False, Beat=1511, District=15, Ward=29, Community Area=25, FBI Code='06', X Coordinate=1138875, Y Coordinate=1904869, Year=2015, Updated On='02/10/2018 03:50:01 PM', Latitude=41.895080471, Longitude=-87.765400451, Location='(41.895080471, -87.765400451)'),\n",
              " Row(ID=11646166, Case Number='JC213529', Date='09/01/2018 12:01:00 AM', Block='082XX S INGLESIDE AVE', IUCR='0810', Primary Type='THEFT', Description='OVER $500', Location Description='RESIDENCE', Arrest=False, Domestic=True, Beat=631, District=6, Ward=8, Community Area=44, FBI Code='06', X Coordinate=None, Y Coordinate=None, Year=2018, Updated On='04/06/2019 04:04:43 PM', Latitude=None, Longitude=None, Location=None),\n",
              " Row(ID=10224740, Case Number='HY411595', Date='09/05/2015 12:45:00 PM', Block='035XX W BARRY AVE', IUCR='2023', Primary Type='NARCOTICS', Description='POSS: HEROIN(BRN/TAN)', Location Description='SIDEWALK', Arrest=True, Domestic=False, Beat=1412, District=14, Ward=35, Community Area=21, FBI Code='18', X Coordinate=1152037, Y Coordinate=1920384, Year=2015, Updated On='02/10/2018 03:50:01 PM', Latitude=41.937405765, Longitude=-87.716649687, Location='(41.937405765, -87.716649687)'),\n",
              " Row(ID=10224741, Case Number='HY411610', Date='09/05/2015 01:00:00 PM', Block='0000X N LARAMIE AVE', IUCR='0560', Primary Type='ASSAULT', Description='SIMPLE', Location Description='APARTMENT', Arrest=False, Domestic=True, Beat=1522, District=15, Ward=28, Community Area=25, FBI Code='08A', X Coordinate=1141706, Y Coordinate=1900086, Year=2015, Updated On='02/10/2018 03:50:01 PM', Latitude=41.881903443, Longitude=-87.755121152, Location='(41.881903443, -87.755121152)')]"
            ]
          },
          "execution_count": 15,
          "metadata": {},
          "output_type": "execute_result"
        }
      ],
      "source": [
        "df.head(5)"
      ]
    },
    {
      "cell_type": "code",
      "execution_count": null,
      "metadata": {
        "id": "cOHRt99hhpJh",
        "outputId": "8fc8f883-869f-4144-c9fb-72765d82a1b9"
      },
      "outputs": [
        {
          "data": {
            "text/html": [
              "<div>\n",
              "<style scoped>\n",
              "    .dataframe tbody tr th:only-of-type {\n",
              "        vertical-align: middle;\n",
              "    }\n",
              "\n",
              "    .dataframe tbody tr th {\n",
              "        vertical-align: top;\n",
              "    }\n",
              "\n",
              "    .dataframe thead th {\n",
              "        text-align: right;\n",
              "    }\n",
              "</style>\n",
              "<table border=\"1\" class=\"dataframe\">\n",
              "  <thead>\n",
              "    <tr style=\"text-align: right;\">\n",
              "      <th></th>\n",
              "      <th>ID</th>\n",
              "      <th>Case Number</th>\n",
              "      <th>Date</th>\n",
              "      <th>Block</th>\n",
              "      <th>IUCR</th>\n",
              "      <th>Primary Type</th>\n",
              "      <th>Description</th>\n",
              "      <th>Location Description</th>\n",
              "      <th>Arrest</th>\n",
              "      <th>Domestic</th>\n",
              "      <th>...</th>\n",
              "      <th>Ward</th>\n",
              "      <th>Community Area</th>\n",
              "      <th>FBI Code</th>\n",
              "      <th>X Coordinate</th>\n",
              "      <th>Y Coordinate</th>\n",
              "      <th>Year</th>\n",
              "      <th>Updated On</th>\n",
              "      <th>Latitude</th>\n",
              "      <th>Longitude</th>\n",
              "      <th>Location</th>\n",
              "    </tr>\n",
              "  </thead>\n",
              "  <tbody>\n",
              "    <tr>\n",
              "      <th>0</th>\n",
              "      <td>10224738</td>\n",
              "      <td>HY411648</td>\n",
              "      <td>09/05/2015 01:30:00 PM</td>\n",
              "      <td>043XX S WOOD ST</td>\n",
              "      <td>0486</td>\n",
              "      <td>BATTERY</td>\n",
              "      <td>DOMESTIC BATTERY SIMPLE</td>\n",
              "      <td>RESIDENCE</td>\n",
              "      <td>False</td>\n",
              "      <td>True</td>\n",
              "      <td>...</td>\n",
              "      <td>12</td>\n",
              "      <td>61</td>\n",
              "      <td>08B</td>\n",
              "      <td>1165074.0</td>\n",
              "      <td>1875917.0</td>\n",
              "      <td>2015</td>\n",
              "      <td>02/10/2018 03:50:01 PM</td>\n",
              "      <td>41.815117</td>\n",
              "      <td>-87.670000</td>\n",
              "      <td>(41.815117282, -87.669999562)</td>\n",
              "    </tr>\n",
              "    <tr>\n",
              "      <th>1</th>\n",
              "      <td>10224739</td>\n",
              "      <td>HY411615</td>\n",
              "      <td>09/04/2015 11:30:00 AM</td>\n",
              "      <td>008XX N CENTRAL AVE</td>\n",
              "      <td>0870</td>\n",
              "      <td>THEFT</td>\n",
              "      <td>POCKET-PICKING</td>\n",
              "      <td>CTA BUS</td>\n",
              "      <td>False</td>\n",
              "      <td>False</td>\n",
              "      <td>...</td>\n",
              "      <td>29</td>\n",
              "      <td>25</td>\n",
              "      <td>06</td>\n",
              "      <td>1138875.0</td>\n",
              "      <td>1904869.0</td>\n",
              "      <td>2015</td>\n",
              "      <td>02/10/2018 03:50:01 PM</td>\n",
              "      <td>41.895080</td>\n",
              "      <td>-87.765400</td>\n",
              "      <td>(41.895080471, -87.765400451)</td>\n",
              "    </tr>\n",
              "    <tr>\n",
              "      <th>2</th>\n",
              "      <td>11646166</td>\n",
              "      <td>JC213529</td>\n",
              "      <td>09/01/2018 12:01:00 AM</td>\n",
              "      <td>082XX S INGLESIDE AVE</td>\n",
              "      <td>0810</td>\n",
              "      <td>THEFT</td>\n",
              "      <td>OVER $500</td>\n",
              "      <td>RESIDENCE</td>\n",
              "      <td>False</td>\n",
              "      <td>True</td>\n",
              "      <td>...</td>\n",
              "      <td>8</td>\n",
              "      <td>44</td>\n",
              "      <td>06</td>\n",
              "      <td>NaN</td>\n",
              "      <td>NaN</td>\n",
              "      <td>2018</td>\n",
              "      <td>04/06/2019 04:04:43 PM</td>\n",
              "      <td>NaN</td>\n",
              "      <td>NaN</td>\n",
              "      <td>None</td>\n",
              "    </tr>\n",
              "    <tr>\n",
              "      <th>3</th>\n",
              "      <td>10224740</td>\n",
              "      <td>HY411595</td>\n",
              "      <td>09/05/2015 12:45:00 PM</td>\n",
              "      <td>035XX W BARRY AVE</td>\n",
              "      <td>2023</td>\n",
              "      <td>NARCOTICS</td>\n",
              "      <td>POSS: HEROIN(BRN/TAN)</td>\n",
              "      <td>SIDEWALK</td>\n",
              "      <td>True</td>\n",
              "      <td>False</td>\n",
              "      <td>...</td>\n",
              "      <td>35</td>\n",
              "      <td>21</td>\n",
              "      <td>18</td>\n",
              "      <td>1152037.0</td>\n",
              "      <td>1920384.0</td>\n",
              "      <td>2015</td>\n",
              "      <td>02/10/2018 03:50:01 PM</td>\n",
              "      <td>41.937406</td>\n",
              "      <td>-87.716650</td>\n",
              "      <td>(41.937405765, -87.716649687)</td>\n",
              "    </tr>\n",
              "    <tr>\n",
              "      <th>4</th>\n",
              "      <td>10224741</td>\n",
              "      <td>HY411610</td>\n",
              "      <td>09/05/2015 01:00:00 PM</td>\n",
              "      <td>0000X N LARAMIE AVE</td>\n",
              "      <td>0560</td>\n",
              "      <td>ASSAULT</td>\n",
              "      <td>SIMPLE</td>\n",
              "      <td>APARTMENT</td>\n",
              "      <td>False</td>\n",
              "      <td>True</td>\n",
              "      <td>...</td>\n",
              "      <td>28</td>\n",
              "      <td>25</td>\n",
              "      <td>08A</td>\n",
              "      <td>1141706.0</td>\n",
              "      <td>1900086.0</td>\n",
              "      <td>2015</td>\n",
              "      <td>02/10/2018 03:50:01 PM</td>\n",
              "      <td>41.881903</td>\n",
              "      <td>-87.755121</td>\n",
              "      <td>(41.881903443, -87.755121152)</td>\n",
              "    </tr>\n",
              "  </tbody>\n",
              "</table>\n",
              "<p>5 rows × 22 columns</p>\n",
              "</div>"
            ],
            "text/plain": [
              "         ID Case Number                    Date                  Block  IUCR  \\\n",
              "0  10224738    HY411648  09/05/2015 01:30:00 PM        043XX S WOOD ST  0486   \n",
              "1  10224739    HY411615  09/04/2015 11:30:00 AM    008XX N CENTRAL AVE  0870   \n",
              "2  11646166    JC213529  09/01/2018 12:01:00 AM  082XX S INGLESIDE AVE  0810   \n",
              "3  10224740    HY411595  09/05/2015 12:45:00 PM      035XX W BARRY AVE  2023   \n",
              "4  10224741    HY411610  09/05/2015 01:00:00 PM    0000X N LARAMIE AVE  0560   \n",
              "\n",
              "  Primary Type              Description Location Description  Arrest  \\\n",
              "0      BATTERY  DOMESTIC BATTERY SIMPLE            RESIDENCE   False   \n",
              "1        THEFT           POCKET-PICKING              CTA BUS   False   \n",
              "2        THEFT                OVER $500            RESIDENCE   False   \n",
              "3    NARCOTICS    POSS: HEROIN(BRN/TAN)             SIDEWALK    True   \n",
              "4      ASSAULT                   SIMPLE            APARTMENT   False   \n",
              "\n",
              "   Domestic  ...  Ward  Community Area  FBI Code  X Coordinate Y Coordinate  \\\n",
              "0      True  ...    12              61       08B     1165074.0    1875917.0   \n",
              "1     False  ...    29              25        06     1138875.0    1904869.0   \n",
              "2      True  ...     8              44        06           NaN          NaN   \n",
              "3     False  ...    35              21        18     1152037.0    1920384.0   \n",
              "4      True  ...    28              25       08A     1141706.0    1900086.0   \n",
              "\n",
              "   Year              Updated On   Latitude  Longitude  \\\n",
              "0  2015  02/10/2018 03:50:01 PM  41.815117 -87.670000   \n",
              "1  2015  02/10/2018 03:50:01 PM  41.895080 -87.765400   \n",
              "2  2018  04/06/2019 04:04:43 PM        NaN        NaN   \n",
              "3  2015  02/10/2018 03:50:01 PM  41.937406 -87.716650   \n",
              "4  2015  02/10/2018 03:50:01 PM  41.881903 -87.755121   \n",
              "\n",
              "                        Location  \n",
              "0  (41.815117282, -87.669999562)  \n",
              "1  (41.895080471, -87.765400451)  \n",
              "2                           None  \n",
              "3  (41.937405765, -87.716649687)  \n",
              "4  (41.881903443, -87.755121152)  \n",
              "\n",
              "[5 rows x 22 columns]"
            ]
          },
          "execution_count": 16,
          "metadata": {},
          "output_type": "execute_result"
        }
      ],
      "source": [
        "df.limit(5).toPandas().head()"
      ]
    },
    {
      "cell_type": "code",
      "execution_count": null,
      "metadata": {
        "id": "X19PhBSghpJi"
      },
      "outputs": [],
      "source": [
        "df = df.filter((df['Year'] >2016) & (df['Year'] !=2022))"
      ]
    },
    {
      "cell_type": "code",
      "execution_count": null,
      "metadata": {
        "id": "Eu-RyCdthpJi"
      },
      "outputs": [],
      "source": [
        "df = df.drop('ID')\n",
        "df = df.drop('Case Number')\n",
        "df = df.drop('FBI Code')\n",
        "df = df.drop('Updated On')\n",
        "df = df.drop('IUCR')\n",
        "df = df.drop('X Coordinate')\n",
        "df = df.drop('Y Coordinate')\n",
        "df = df.drop('Location')\n",
        "df = df.drop('Description')\n",
        "df = df.drop('Domestic')"
      ]
    },
    {
      "cell_type": "code",
      "execution_count": null,
      "metadata": {
        "id": "uSr2-vZrhpJi",
        "outputId": "908db6bb-e795-4ed1-bf6d-58473bff157e"
      },
      "outputs": [
        {
          "data": {
            "text/plain": [
              "1194828"
            ]
          },
          "execution_count": 19,
          "metadata": {},
          "output_type": "execute_result"
        }
      ],
      "source": [
        "df = df.na.drop()\n",
        "df.count()"
      ]
    },
    {
      "cell_type": "code",
      "execution_count": null,
      "metadata": {
        "id": "rySTccA_hpJj",
        "outputId": "36e02a83-0336-41eb-8bab-4d04b29b7e78"
      },
      "outputs": [
        {
          "data": {
            "text/plain": [
              "['Date',\n",
              " 'Block',\n",
              " 'Primary Type',\n",
              " 'Location Description',\n",
              " 'Arrest',\n",
              " 'Beat',\n",
              " 'District',\n",
              " 'Ward',\n",
              " 'Community Area',\n",
              " 'Year',\n",
              " 'Latitude',\n",
              " 'Longitude']"
            ]
          },
          "execution_count": 20,
          "metadata": {},
          "output_type": "execute_result"
        }
      ],
      "source": [
        "df.columns"
      ]
    },
    {
      "cell_type": "code",
      "execution_count": null,
      "metadata": {
        "id": "ng_gY5llhpJj",
        "outputId": "9e61c79b-814f-43c6-aa40-3f02aa1abc66"
      },
      "outputs": [
        {
          "name": "stdout",
          "output_type": "stream",
          "text": [
            "+--------------------+------+\n",
            "|        Primary Type| count|\n",
            "+--------------------+------+\n",
            "|               THEFT|268762|\n",
            "|             BATTERY|230050|\n",
            "|     CRIMINAL DAMAGE|132807|\n",
            "|             ASSAULT| 98651|\n",
            "|  DECEPTIVE PRACTICE| 82384|\n",
            "|       OTHER OFFENSE| 76660|\n",
            "|           NARCOTICS| 50625|\n",
            "| MOTOR VEHICLE THEFT| 50618|\n",
            "|            BURGLARY| 49579|\n",
            "|             ROBBERY| 45284|\n",
            "|   WEAPONS VIOLATION| 33824|\n",
            "|   CRIMINAL TRESPASS| 28011|\n",
            "|OFFENSE INVOLVING...| 10292|\n",
            "|PUBLIC PEACE VIOL...|  6238|\n",
            "|         SEX OFFENSE|  5205|\n",
            "|INTERFERENCE WITH...|  4900|\n",
            "| CRIM SEXUAL ASSAULT|  3755|\n",
            "|CRIMINAL SEXUAL A...|  3475|\n",
            "|            HOMICIDE|  3390|\n",
            "|        PROSTITUTION|  2501|\n",
            "+--------------------+------+\n",
            "only showing top 20 rows\n",
            "\n"
          ]
        }
      ],
      "source": [
        "primaryCount = df.groupby('Primary Type').count()\n",
        "primaryCount.orderBy('count', ascending=False).show()"
      ]
    },
    {
      "cell_type": "code",
      "execution_count": null,
      "metadata": {
        "id": "RjeMPl_JhpJj",
        "outputId": "43a20b68-4c6f-45d0-9c64-d2c23e975eca"
      },
      "outputs": [
        {
          "data": {
            "text/html": [
              "<div>\n",
              "<style scoped>\n",
              "    .dataframe tbody tr th:only-of-type {\n",
              "        vertical-align: middle;\n",
              "    }\n",
              "\n",
              "    .dataframe tbody tr th {\n",
              "        vertical-align: top;\n",
              "    }\n",
              "\n",
              "    .dataframe thead th {\n",
              "        text-align: right;\n",
              "    }\n",
              "</style>\n",
              "<table border=\"1\" class=\"dataframe\">\n",
              "  <thead>\n",
              "    <tr style=\"text-align: right;\">\n",
              "      <th></th>\n",
              "      <th>Date</th>\n",
              "      <th>Block</th>\n",
              "      <th>Primary Type</th>\n",
              "      <th>Location Description</th>\n",
              "      <th>Arrest</th>\n",
              "      <th>Beat</th>\n",
              "      <th>District</th>\n",
              "      <th>Ward</th>\n",
              "      <th>Community Area</th>\n",
              "      <th>Year</th>\n",
              "      <th>Latitude</th>\n",
              "      <th>Longitude</th>\n",
              "      <th>Final_Date</th>\n",
              "    </tr>\n",
              "  </thead>\n",
              "  <tbody>\n",
              "    <tr>\n",
              "      <th>0</th>\n",
              "      <td>03/17/2020 09:30:00 PM</td>\n",
              "      <td>039XX N LECLAIRE AVE</td>\n",
              "      <td>THEFT</td>\n",
              "      <td>STREET</td>\n",
              "      <td>False</td>\n",
              "      <td>1634</td>\n",
              "      <td>16</td>\n",
              "      <td>45</td>\n",
              "      <td>15</td>\n",
              "      <td>2020</td>\n",
              "      <td>41.952052</td>\n",
              "      <td>-87.754660</td>\n",
              "      <td>2020-03-17</td>\n",
              "    </tr>\n",
              "    <tr>\n",
              "      <th>1</th>\n",
              "      <td>09/24/2019 08:00:00 AM</td>\n",
              "      <td>022XX S MICHIGAN AVE</td>\n",
              "      <td>DECEPTIVE PRACTICE</td>\n",
              "      <td>COMMERCIAL / BUSINESS OFFICE</td>\n",
              "      <td>False</td>\n",
              "      <td>132</td>\n",
              "      <td>1</td>\n",
              "      <td>3</td>\n",
              "      <td>33</td>\n",
              "      <td>2019</td>\n",
              "      <td>41.852248</td>\n",
              "      <td>-87.623786</td>\n",
              "      <td>2019-09-24</td>\n",
              "    </tr>\n",
              "    <tr>\n",
              "      <th>2</th>\n",
              "      <td>10/13/2019 08:30:00 PM</td>\n",
              "      <td>024XX W CHICAGO AVE</td>\n",
              "      <td>THEFT</td>\n",
              "      <td>GROCERY FOOD STORE</td>\n",
              "      <td>False</td>\n",
              "      <td>1221</td>\n",
              "      <td>12</td>\n",
              "      <td>26</td>\n",
              "      <td>24</td>\n",
              "      <td>2019</td>\n",
              "      <td>41.895732</td>\n",
              "      <td>-87.687784</td>\n",
              "      <td>2019-10-13</td>\n",
              "    </tr>\n",
              "    <tr>\n",
              "      <th>3</th>\n",
              "      <td>03/18/2020 02:03:00 AM</td>\n",
              "      <td>039XX W JACKSON BLVD</td>\n",
              "      <td>MOTOR VEHICLE THEFT</td>\n",
              "      <td>APARTMENT</td>\n",
              "      <td>False</td>\n",
              "      <td>1132</td>\n",
              "      <td>11</td>\n",
              "      <td>28</td>\n",
              "      <td>26</td>\n",
              "      <td>2020</td>\n",
              "      <td>41.877110</td>\n",
              "      <td>-87.723990</td>\n",
              "      <td>2020-03-18</td>\n",
              "    </tr>\n",
              "    <tr>\n",
              "      <th>4</th>\n",
              "      <td>10/05/2019 06:30:00 PM</td>\n",
              "      <td>0000X N LOOMIS ST</td>\n",
              "      <td>THEFT</td>\n",
              "      <td>RESIDENCE</td>\n",
              "      <td>False</td>\n",
              "      <td>1224</td>\n",
              "      <td>12</td>\n",
              "      <td>27</td>\n",
              "      <td>28</td>\n",
              "      <td>2019</td>\n",
              "      <td>41.882002</td>\n",
              "      <td>-87.662287</td>\n",
              "      <td>2019-10-05</td>\n",
              "    </tr>\n",
              "  </tbody>\n",
              "</table>\n",
              "</div>"
            ],
            "text/plain": [
              "                     Date                 Block         Primary Type  \\\n",
              "0  03/17/2020 09:30:00 PM  039XX N LECLAIRE AVE                THEFT   \n",
              "1  09/24/2019 08:00:00 AM  022XX S MICHIGAN AVE   DECEPTIVE PRACTICE   \n",
              "2  10/13/2019 08:30:00 PM   024XX W CHICAGO AVE                THEFT   \n",
              "3  03/18/2020 02:03:00 AM  039XX W JACKSON BLVD  MOTOR VEHICLE THEFT   \n",
              "4  10/05/2019 06:30:00 PM     0000X N LOOMIS ST                THEFT   \n",
              "\n",
              "           Location Description  Arrest  Beat  District  Ward  Community Area  \\\n",
              "0                        STREET   False  1634        16    45              15   \n",
              "1  COMMERCIAL / BUSINESS OFFICE   False   132         1     3              33   \n",
              "2            GROCERY FOOD STORE   False  1221        12    26              24   \n",
              "3                     APARTMENT   False  1132        11    28              26   \n",
              "4                     RESIDENCE   False  1224        12    27              28   \n",
              "\n",
              "   Year   Latitude  Longitude  Final_Date  \n",
              "0  2020  41.952052 -87.754660  2020-03-17  \n",
              "1  2019  41.852248 -87.623786  2019-09-24  \n",
              "2  2019  41.895732 -87.687784  2019-10-13  \n",
              "3  2020  41.877110 -87.723990  2020-03-18  \n",
              "4  2019  41.882002 -87.662287  2019-10-05  "
            ]
          },
          "execution_count": 22,
          "metadata": {},
          "output_type": "execute_result"
        }
      ],
      "source": [
        "df=df\\\n",
        "            .withColumn(\"Final_Date\", F.to_date(F.split(df.Date, \" \")[0], \"MM/dd/yyyy\"))\n",
        "df.limit(10).toPandas().head()"
      ]
    },
    {
      "cell_type": "code",
      "execution_count": null,
      "metadata": {
        "id": "_dwhC8jWhpJk",
        "outputId": "f1e48d6d-733a-4a90-dda1-53d0d0dbb2e8"
      },
      "outputs": [
        {
          "data": {
            "text/html": [
              "<div>\n",
              "<style scoped>\n",
              "    .dataframe tbody tr th:only-of-type {\n",
              "        vertical-align: middle;\n",
              "    }\n",
              "\n",
              "    .dataframe tbody tr th {\n",
              "        vertical-align: top;\n",
              "    }\n",
              "\n",
              "    .dataframe thead th {\n",
              "        text-align: right;\n",
              "    }\n",
              "</style>\n",
              "<table border=\"1\" class=\"dataframe\">\n",
              "  <thead>\n",
              "    <tr style=\"text-align: right;\">\n",
              "      <th></th>\n",
              "      <th>Date</th>\n",
              "      <th>Block</th>\n",
              "      <th>Primary Type</th>\n",
              "      <th>Location Description</th>\n",
              "      <th>Arrest</th>\n",
              "      <th>Beat</th>\n",
              "      <th>District</th>\n",
              "      <th>Ward</th>\n",
              "      <th>Community Area</th>\n",
              "      <th>Year</th>\n",
              "      <th>Latitude</th>\n",
              "      <th>Longitude</th>\n",
              "      <th>Final_Date</th>\n",
              "      <th>Week</th>\n",
              "    </tr>\n",
              "  </thead>\n",
              "  <tbody>\n",
              "    <tr>\n",
              "      <th>0</th>\n",
              "      <td>03/17/2020 09:30:00 PM</td>\n",
              "      <td>039XX N LECLAIRE AVE</td>\n",
              "      <td>THEFT</td>\n",
              "      <td>STREET</td>\n",
              "      <td>False</td>\n",
              "      <td>1634</td>\n",
              "      <td>16</td>\n",
              "      <td>45</td>\n",
              "      <td>15</td>\n",
              "      <td>2020</td>\n",
              "      <td>41.952052</td>\n",
              "      <td>-87.754660</td>\n",
              "      <td>2020-03-17</td>\n",
              "      <td>3</td>\n",
              "    </tr>\n",
              "    <tr>\n",
              "      <th>1</th>\n",
              "      <td>09/24/2019 08:00:00 AM</td>\n",
              "      <td>022XX S MICHIGAN AVE</td>\n",
              "      <td>DECEPTIVE PRACTICE</td>\n",
              "      <td>COMMERCIAL / BUSINESS OFFICE</td>\n",
              "      <td>False</td>\n",
              "      <td>132</td>\n",
              "      <td>1</td>\n",
              "      <td>3</td>\n",
              "      <td>33</td>\n",
              "      <td>2019</td>\n",
              "      <td>41.852248</td>\n",
              "      <td>-87.623786</td>\n",
              "      <td>2019-09-24</td>\n",
              "      <td>3</td>\n",
              "    </tr>\n",
              "    <tr>\n",
              "      <th>2</th>\n",
              "      <td>10/13/2019 08:30:00 PM</td>\n",
              "      <td>024XX W CHICAGO AVE</td>\n",
              "      <td>THEFT</td>\n",
              "      <td>GROCERY FOOD STORE</td>\n",
              "      <td>False</td>\n",
              "      <td>1221</td>\n",
              "      <td>12</td>\n",
              "      <td>26</td>\n",
              "      <td>24</td>\n",
              "      <td>2019</td>\n",
              "      <td>41.895732</td>\n",
              "      <td>-87.687784</td>\n",
              "      <td>2019-10-13</td>\n",
              "      <td>1</td>\n",
              "    </tr>\n",
              "    <tr>\n",
              "      <th>3</th>\n",
              "      <td>03/18/2020 02:03:00 AM</td>\n",
              "      <td>039XX W JACKSON BLVD</td>\n",
              "      <td>MOTOR VEHICLE THEFT</td>\n",
              "      <td>APARTMENT</td>\n",
              "      <td>False</td>\n",
              "      <td>1132</td>\n",
              "      <td>11</td>\n",
              "      <td>28</td>\n",
              "      <td>26</td>\n",
              "      <td>2020</td>\n",
              "      <td>41.877110</td>\n",
              "      <td>-87.723990</td>\n",
              "      <td>2020-03-18</td>\n",
              "      <td>4</td>\n",
              "    </tr>\n",
              "    <tr>\n",
              "      <th>4</th>\n",
              "      <td>10/05/2019 06:30:00 PM</td>\n",
              "      <td>0000X N LOOMIS ST</td>\n",
              "      <td>THEFT</td>\n",
              "      <td>RESIDENCE</td>\n",
              "      <td>False</td>\n",
              "      <td>1224</td>\n",
              "      <td>12</td>\n",
              "      <td>27</td>\n",
              "      <td>28</td>\n",
              "      <td>2019</td>\n",
              "      <td>41.882002</td>\n",
              "      <td>-87.662287</td>\n",
              "      <td>2019-10-05</td>\n",
              "      <td>7</td>\n",
              "    </tr>\n",
              "  </tbody>\n",
              "</table>\n",
              "</div>"
            ],
            "text/plain": [
              "                     Date                 Block         Primary Type  \\\n",
              "0  03/17/2020 09:30:00 PM  039XX N LECLAIRE AVE                THEFT   \n",
              "1  09/24/2019 08:00:00 AM  022XX S MICHIGAN AVE   DECEPTIVE PRACTICE   \n",
              "2  10/13/2019 08:30:00 PM   024XX W CHICAGO AVE                THEFT   \n",
              "3  03/18/2020 02:03:00 AM  039XX W JACKSON BLVD  MOTOR VEHICLE THEFT   \n",
              "4  10/05/2019 06:30:00 PM     0000X N LOOMIS ST                THEFT   \n",
              "\n",
              "           Location Description  Arrest  Beat  District  Ward  Community Area  \\\n",
              "0                        STREET   False  1634        16    45              15   \n",
              "1  COMMERCIAL / BUSINESS OFFICE   False   132         1     3              33   \n",
              "2            GROCERY FOOD STORE   False  1221        12    26              24   \n",
              "3                     APARTMENT   False  1132        11    28              26   \n",
              "4                     RESIDENCE   False  1224        12    27              28   \n",
              "\n",
              "   Year   Latitude  Longitude  Final_Date  Week  \n",
              "0  2020  41.952052 -87.754660  2020-03-17     3  \n",
              "1  2019  41.852248 -87.623786  2019-09-24     3  \n",
              "2  2019  41.895732 -87.687784  2019-10-13     1  \n",
              "3  2020  41.877110 -87.723990  2020-03-18     4  \n",
              "4  2019  41.882002 -87.662287  2019-10-05     7  "
            ]
          },
          "execution_count": 23,
          "metadata": {},
          "output_type": "execute_result"
        }
      ],
      "source": [
        "df=df.withColumn(\"Week\", F.dayofweek(df.Final_Date))\n",
        "df.limit(10).toPandas().head()"
      ]
    },
    {
      "cell_type": "code",
      "execution_count": null,
      "metadata": {
        "id": "qyCuNRxIhpJk",
        "outputId": "75c1ba0d-781e-4a64-cf76-645c26b62bc8"
      },
      "outputs": [
        {
          "data": {
            "text/html": [
              "<div>\n",
              "<style scoped>\n",
              "    .dataframe tbody tr th:only-of-type {\n",
              "        vertical-align: middle;\n",
              "    }\n",
              "\n",
              "    .dataframe tbody tr th {\n",
              "        vertical-align: top;\n",
              "    }\n",
              "\n",
              "    .dataframe thead th {\n",
              "        text-align: right;\n",
              "    }\n",
              "</style>\n",
              "<table border=\"1\" class=\"dataframe\">\n",
              "  <thead>\n",
              "    <tr style=\"text-align: right;\">\n",
              "      <th></th>\n",
              "      <th>Date</th>\n",
              "      <th>Block</th>\n",
              "      <th>Primary Type</th>\n",
              "      <th>Location Description</th>\n",
              "      <th>Arrest</th>\n",
              "      <th>Beat</th>\n",
              "      <th>District</th>\n",
              "      <th>Ward</th>\n",
              "      <th>Community Area</th>\n",
              "      <th>Year</th>\n",
              "      <th>Latitude</th>\n",
              "      <th>Longitude</th>\n",
              "      <th>Final_Date</th>\n",
              "      <th>Week</th>\n",
              "      <th>Month</th>\n",
              "    </tr>\n",
              "  </thead>\n",
              "  <tbody>\n",
              "    <tr>\n",
              "      <th>0</th>\n",
              "      <td>03/17/2020 09:30:00 PM</td>\n",
              "      <td>039XX N LECLAIRE AVE</td>\n",
              "      <td>THEFT</td>\n",
              "      <td>STREET</td>\n",
              "      <td>False</td>\n",
              "      <td>1634</td>\n",
              "      <td>16</td>\n",
              "      <td>45</td>\n",
              "      <td>15</td>\n",
              "      <td>2020</td>\n",
              "      <td>41.952052</td>\n",
              "      <td>-87.754660</td>\n",
              "      <td>2020-03-17</td>\n",
              "      <td>3</td>\n",
              "      <td>3</td>\n",
              "    </tr>\n",
              "    <tr>\n",
              "      <th>1</th>\n",
              "      <td>09/24/2019 08:00:00 AM</td>\n",
              "      <td>022XX S MICHIGAN AVE</td>\n",
              "      <td>DECEPTIVE PRACTICE</td>\n",
              "      <td>COMMERCIAL / BUSINESS OFFICE</td>\n",
              "      <td>False</td>\n",
              "      <td>132</td>\n",
              "      <td>1</td>\n",
              "      <td>3</td>\n",
              "      <td>33</td>\n",
              "      <td>2019</td>\n",
              "      <td>41.852248</td>\n",
              "      <td>-87.623786</td>\n",
              "      <td>2019-09-24</td>\n",
              "      <td>3</td>\n",
              "      <td>9</td>\n",
              "    </tr>\n",
              "    <tr>\n",
              "      <th>2</th>\n",
              "      <td>10/13/2019 08:30:00 PM</td>\n",
              "      <td>024XX W CHICAGO AVE</td>\n",
              "      <td>THEFT</td>\n",
              "      <td>GROCERY FOOD STORE</td>\n",
              "      <td>False</td>\n",
              "      <td>1221</td>\n",
              "      <td>12</td>\n",
              "      <td>26</td>\n",
              "      <td>24</td>\n",
              "      <td>2019</td>\n",
              "      <td>41.895732</td>\n",
              "      <td>-87.687784</td>\n",
              "      <td>2019-10-13</td>\n",
              "      <td>1</td>\n",
              "      <td>10</td>\n",
              "    </tr>\n",
              "    <tr>\n",
              "      <th>3</th>\n",
              "      <td>03/18/2020 02:03:00 AM</td>\n",
              "      <td>039XX W JACKSON BLVD</td>\n",
              "      <td>MOTOR VEHICLE THEFT</td>\n",
              "      <td>APARTMENT</td>\n",
              "      <td>False</td>\n",
              "      <td>1132</td>\n",
              "      <td>11</td>\n",
              "      <td>28</td>\n",
              "      <td>26</td>\n",
              "      <td>2020</td>\n",
              "      <td>41.877110</td>\n",
              "      <td>-87.723990</td>\n",
              "      <td>2020-03-18</td>\n",
              "      <td>4</td>\n",
              "      <td>3</td>\n",
              "    </tr>\n",
              "    <tr>\n",
              "      <th>4</th>\n",
              "      <td>10/05/2019 06:30:00 PM</td>\n",
              "      <td>0000X N LOOMIS ST</td>\n",
              "      <td>THEFT</td>\n",
              "      <td>RESIDENCE</td>\n",
              "      <td>False</td>\n",
              "      <td>1224</td>\n",
              "      <td>12</td>\n",
              "      <td>27</td>\n",
              "      <td>28</td>\n",
              "      <td>2019</td>\n",
              "      <td>41.882002</td>\n",
              "      <td>-87.662287</td>\n",
              "      <td>2019-10-05</td>\n",
              "      <td>7</td>\n",
              "      <td>10</td>\n",
              "    </tr>\n",
              "  </tbody>\n",
              "</table>\n",
              "</div>"
            ],
            "text/plain": [
              "                     Date                 Block         Primary Type  \\\n",
              "0  03/17/2020 09:30:00 PM  039XX N LECLAIRE AVE                THEFT   \n",
              "1  09/24/2019 08:00:00 AM  022XX S MICHIGAN AVE   DECEPTIVE PRACTICE   \n",
              "2  10/13/2019 08:30:00 PM   024XX W CHICAGO AVE                THEFT   \n",
              "3  03/18/2020 02:03:00 AM  039XX W JACKSON BLVD  MOTOR VEHICLE THEFT   \n",
              "4  10/05/2019 06:30:00 PM     0000X N LOOMIS ST                THEFT   \n",
              "\n",
              "           Location Description  Arrest  Beat  District  Ward  Community Area  \\\n",
              "0                        STREET   False  1634        16    45              15   \n",
              "1  COMMERCIAL / BUSINESS OFFICE   False   132         1     3              33   \n",
              "2            GROCERY FOOD STORE   False  1221        12    26              24   \n",
              "3                     APARTMENT   False  1132        11    28              26   \n",
              "4                     RESIDENCE   False  1224        12    27              28   \n",
              "\n",
              "   Year   Latitude  Longitude  Final_Date  Week  Month  \n",
              "0  2020  41.952052 -87.754660  2020-03-17     3      3  \n",
              "1  2019  41.852248 -87.623786  2019-09-24     3      9  \n",
              "2  2019  41.895732 -87.687784  2019-10-13     1     10  \n",
              "3  2020  41.877110 -87.723990  2020-03-18     4      3  \n",
              "4  2019  41.882002 -87.662287  2019-10-05     7     10  "
            ]
          },
          "execution_count": 24,
          "metadata": {},
          "output_type": "execute_result"
        }
      ],
      "source": [
        "df=df.withColumn(\"Month\", F.month(df.Final_Date))\n",
        "df.limit(10).toPandas().head()"
      ]
    },
    {
      "cell_type": "code",
      "execution_count": null,
      "metadata": {
        "id": "uGqHs7r-hpJk",
        "outputId": "a13bae6a-e9be-4429-de7f-60d07bc751bb"
      },
      "outputs": [
        {
          "data": {
            "text/html": [
              "<div>\n",
              "<style scoped>\n",
              "    .dataframe tbody tr th:only-of-type {\n",
              "        vertical-align: middle;\n",
              "    }\n",
              "\n",
              "    .dataframe tbody tr th {\n",
              "        vertical-align: top;\n",
              "    }\n",
              "\n",
              "    .dataframe thead th {\n",
              "        text-align: right;\n",
              "    }\n",
              "</style>\n",
              "<table border=\"1\" class=\"dataframe\">\n",
              "  <thead>\n",
              "    <tr style=\"text-align: right;\">\n",
              "      <th></th>\n",
              "      <th>Date</th>\n",
              "      <th>Block</th>\n",
              "      <th>Primary Type</th>\n",
              "      <th>Location Description</th>\n",
              "      <th>Arrest</th>\n",
              "      <th>Beat</th>\n",
              "      <th>District</th>\n",
              "      <th>Ward</th>\n",
              "      <th>Community Area</th>\n",
              "      <th>Year</th>\n",
              "      <th>Latitude</th>\n",
              "      <th>Longitude</th>\n",
              "      <th>Final_Date</th>\n",
              "      <th>Week</th>\n",
              "      <th>Month</th>\n",
              "      <th>Day</th>\n",
              "    </tr>\n",
              "  </thead>\n",
              "  <tbody>\n",
              "    <tr>\n",
              "      <th>0</th>\n",
              "      <td>03/17/2020 09:30:00 PM</td>\n",
              "      <td>039XX N LECLAIRE AVE</td>\n",
              "      <td>THEFT</td>\n",
              "      <td>STREET</td>\n",
              "      <td>False</td>\n",
              "      <td>1634</td>\n",
              "      <td>16</td>\n",
              "      <td>45</td>\n",
              "      <td>15</td>\n",
              "      <td>2020</td>\n",
              "      <td>41.952052</td>\n",
              "      <td>-87.754660</td>\n",
              "      <td>2020-03-17</td>\n",
              "      <td>3</td>\n",
              "      <td>3</td>\n",
              "      <td>3</td>\n",
              "    </tr>\n",
              "    <tr>\n",
              "      <th>1</th>\n",
              "      <td>09/24/2019 08:00:00 AM</td>\n",
              "      <td>022XX S MICHIGAN AVE</td>\n",
              "      <td>DECEPTIVE PRACTICE</td>\n",
              "      <td>COMMERCIAL / BUSINESS OFFICE</td>\n",
              "      <td>False</td>\n",
              "      <td>132</td>\n",
              "      <td>1</td>\n",
              "      <td>3</td>\n",
              "      <td>33</td>\n",
              "      <td>2019</td>\n",
              "      <td>41.852248</td>\n",
              "      <td>-87.623786</td>\n",
              "      <td>2019-09-24</td>\n",
              "      <td>3</td>\n",
              "      <td>9</td>\n",
              "      <td>3</td>\n",
              "    </tr>\n",
              "    <tr>\n",
              "      <th>2</th>\n",
              "      <td>10/13/2019 08:30:00 PM</td>\n",
              "      <td>024XX W CHICAGO AVE</td>\n",
              "      <td>THEFT</td>\n",
              "      <td>GROCERY FOOD STORE</td>\n",
              "      <td>False</td>\n",
              "      <td>1221</td>\n",
              "      <td>12</td>\n",
              "      <td>26</td>\n",
              "      <td>24</td>\n",
              "      <td>2019</td>\n",
              "      <td>41.895732</td>\n",
              "      <td>-87.687784</td>\n",
              "      <td>2019-10-13</td>\n",
              "      <td>1</td>\n",
              "      <td>10</td>\n",
              "      <td>1</td>\n",
              "    </tr>\n",
              "    <tr>\n",
              "      <th>3</th>\n",
              "      <td>03/18/2020 02:03:00 AM</td>\n",
              "      <td>039XX W JACKSON BLVD</td>\n",
              "      <td>MOTOR VEHICLE THEFT</td>\n",
              "      <td>APARTMENT</td>\n",
              "      <td>False</td>\n",
              "      <td>1132</td>\n",
              "      <td>11</td>\n",
              "      <td>28</td>\n",
              "      <td>26</td>\n",
              "      <td>2020</td>\n",
              "      <td>41.877110</td>\n",
              "      <td>-87.723990</td>\n",
              "      <td>2020-03-18</td>\n",
              "      <td>4</td>\n",
              "      <td>3</td>\n",
              "      <td>4</td>\n",
              "    </tr>\n",
              "    <tr>\n",
              "      <th>4</th>\n",
              "      <td>10/05/2019 06:30:00 PM</td>\n",
              "      <td>0000X N LOOMIS ST</td>\n",
              "      <td>THEFT</td>\n",
              "      <td>RESIDENCE</td>\n",
              "      <td>False</td>\n",
              "      <td>1224</td>\n",
              "      <td>12</td>\n",
              "      <td>27</td>\n",
              "      <td>28</td>\n",
              "      <td>2019</td>\n",
              "      <td>41.882002</td>\n",
              "      <td>-87.662287</td>\n",
              "      <td>2019-10-05</td>\n",
              "      <td>7</td>\n",
              "      <td>10</td>\n",
              "      <td>7</td>\n",
              "    </tr>\n",
              "  </tbody>\n",
              "</table>\n",
              "</div>"
            ],
            "text/plain": [
              "                     Date                 Block         Primary Type  \\\n",
              "0  03/17/2020 09:30:00 PM  039XX N LECLAIRE AVE                THEFT   \n",
              "1  09/24/2019 08:00:00 AM  022XX S MICHIGAN AVE   DECEPTIVE PRACTICE   \n",
              "2  10/13/2019 08:30:00 PM   024XX W CHICAGO AVE                THEFT   \n",
              "3  03/18/2020 02:03:00 AM  039XX W JACKSON BLVD  MOTOR VEHICLE THEFT   \n",
              "4  10/05/2019 06:30:00 PM     0000X N LOOMIS ST                THEFT   \n",
              "\n",
              "           Location Description  Arrest  Beat  District  Ward  Community Area  \\\n",
              "0                        STREET   False  1634        16    45              15   \n",
              "1  COMMERCIAL / BUSINESS OFFICE   False   132         1     3              33   \n",
              "2            GROCERY FOOD STORE   False  1221        12    26              24   \n",
              "3                     APARTMENT   False  1132        11    28              26   \n",
              "4                     RESIDENCE   False  1224        12    27              28   \n",
              "\n",
              "   Year   Latitude  Longitude  Final_Date  Week  Month  Day  \n",
              "0  2020  41.952052 -87.754660  2020-03-17     3      3    3  \n",
              "1  2019  41.852248 -87.623786  2019-09-24     3      9    3  \n",
              "2  2019  41.895732 -87.687784  2019-10-13     1     10    1  \n",
              "3  2020  41.877110 -87.723990  2020-03-18     4      3    4  \n",
              "4  2019  41.882002 -87.662287  2019-10-05     7     10    7  "
            ]
          },
          "execution_count": 25,
          "metadata": {},
          "output_type": "execute_result"
        }
      ],
      "source": [
        "df=df.withColumn(\"Day\", F.dayofweek(df.Final_Date))\n",
        "df.limit(10).toPandas().head()"
      ]
    },
    {
      "cell_type": "code",
      "execution_count": null,
      "metadata": {
        "id": "oyx4go8uhpJl"
      },
      "outputs": [],
      "source": [
        "df=df\\\n",
        "        .filter((df[\"Latitude\"] < 45)\n",
        "             & (df[\"Latitude\"] > 40)\n",
        "             & (df[\"Longitude\"] < -85)\n",
        "             & (df[\"Longitude\"] > -90))"
      ]
    },
    {
      "cell_type": "code",
      "execution_count": null,
      "metadata": {
        "id": "Lvu9KGy5hpJl"
      },
      "outputs": [],
      "source": [
        "df1 = df.toPandas()"
      ]
    },
    {
      "cell_type": "code",
      "execution_count": null,
      "metadata": {
        "id": "iM3NJQJnhpJl",
        "outputId": "fee0b870-67b2-4c45-a66d-3277272a1dfc"
      },
      "outputs": [
        {
          "data": {
            "text/plain": [
              "Index(['Date', 'Block', 'Primary Type', 'Location Description', 'Arrest',\n",
              "       'Beat', 'District', 'Ward', 'Community Area', 'Year', 'Latitude',\n",
              "       'Longitude', 'Final_Date', 'Week', 'Month', 'Day'],\n",
              "      dtype='object')"
            ]
          },
          "execution_count": 28,
          "metadata": {},
          "output_type": "execute_result"
        }
      ],
      "source": [
        "df1.columns"
      ]
    },
    {
      "cell_type": "code",
      "execution_count": null,
      "metadata": {
        "id": "7c9aR7mohpJl",
        "outputId": "27508c93-c4f3-4dbc-bd0e-08ddabfb5113"
      },
      "outputs": [
        {
          "data": {
            "text/html": [
              "<div>\n",
              "<style scoped>\n",
              "    .dataframe tbody tr th:only-of-type {\n",
              "        vertical-align: middle;\n",
              "    }\n",
              "\n",
              "    .dataframe tbody tr th {\n",
              "        vertical-align: top;\n",
              "    }\n",
              "\n",
              "    .dataframe thead th {\n",
              "        text-align: right;\n",
              "    }\n",
              "</style>\n",
              "<table border=\"1\" class=\"dataframe\">\n",
              "  <thead>\n",
              "    <tr style=\"text-align: right;\">\n",
              "      <th></th>\n",
              "      <th>Date</th>\n",
              "      <th>Block</th>\n",
              "      <th>Primary Type</th>\n",
              "      <th>Location Description</th>\n",
              "      <th>Arrest</th>\n",
              "      <th>Beat</th>\n",
              "      <th>District</th>\n",
              "      <th>Ward</th>\n",
              "      <th>Community Area</th>\n",
              "      <th>Year</th>\n",
              "      <th>Latitude</th>\n",
              "      <th>Longitude</th>\n",
              "      <th>Final_Date</th>\n",
              "      <th>Week</th>\n",
              "      <th>Month</th>\n",
              "      <th>Day</th>\n",
              "    </tr>\n",
              "  </thead>\n",
              "  <tbody>\n",
              "    <tr>\n",
              "      <th>0</th>\n",
              "      <td>03/17/2020 09:30:00 PM</td>\n",
              "      <td>039XX N LECLAIRE AVE</td>\n",
              "      <td>THEFT</td>\n",
              "      <td>STREET</td>\n",
              "      <td>False</td>\n",
              "      <td>1634</td>\n",
              "      <td>16</td>\n",
              "      <td>45</td>\n",
              "      <td>15</td>\n",
              "      <td>2020</td>\n",
              "      <td>41.952052</td>\n",
              "      <td>-87.754660</td>\n",
              "      <td>2020-03-17</td>\n",
              "      <td>3</td>\n",
              "      <td>3</td>\n",
              "      <td>3</td>\n",
              "    </tr>\n",
              "    <tr>\n",
              "      <th>1</th>\n",
              "      <td>09/24/2019 08:00:00 AM</td>\n",
              "      <td>022XX S MICHIGAN AVE</td>\n",
              "      <td>DECEPTIVE PRACTICE</td>\n",
              "      <td>COMMERCIAL / BUSINESS OFFICE</td>\n",
              "      <td>False</td>\n",
              "      <td>132</td>\n",
              "      <td>1</td>\n",
              "      <td>3</td>\n",
              "      <td>33</td>\n",
              "      <td>2019</td>\n",
              "      <td>41.852248</td>\n",
              "      <td>-87.623786</td>\n",
              "      <td>2019-09-24</td>\n",
              "      <td>3</td>\n",
              "      <td>9</td>\n",
              "      <td>3</td>\n",
              "    </tr>\n",
              "    <tr>\n",
              "      <th>2</th>\n",
              "      <td>10/13/2019 08:30:00 PM</td>\n",
              "      <td>024XX W CHICAGO AVE</td>\n",
              "      <td>THEFT</td>\n",
              "      <td>GROCERY FOOD STORE</td>\n",
              "      <td>False</td>\n",
              "      <td>1221</td>\n",
              "      <td>12</td>\n",
              "      <td>26</td>\n",
              "      <td>24</td>\n",
              "      <td>2019</td>\n",
              "      <td>41.895732</td>\n",
              "      <td>-87.687784</td>\n",
              "      <td>2019-10-13</td>\n",
              "      <td>1</td>\n",
              "      <td>10</td>\n",
              "      <td>1</td>\n",
              "    </tr>\n",
              "    <tr>\n",
              "      <th>3</th>\n",
              "      <td>03/18/2020 02:03:00 AM</td>\n",
              "      <td>039XX W JACKSON BLVD</td>\n",
              "      <td>MOTOR VEHICLE THEFT</td>\n",
              "      <td>APARTMENT</td>\n",
              "      <td>False</td>\n",
              "      <td>1132</td>\n",
              "      <td>11</td>\n",
              "      <td>28</td>\n",
              "      <td>26</td>\n",
              "      <td>2020</td>\n",
              "      <td>41.877110</td>\n",
              "      <td>-87.723990</td>\n",
              "      <td>2020-03-18</td>\n",
              "      <td>4</td>\n",
              "      <td>3</td>\n",
              "      <td>4</td>\n",
              "    </tr>\n",
              "    <tr>\n",
              "      <th>4</th>\n",
              "      <td>10/05/2019 06:30:00 PM</td>\n",
              "      <td>0000X N LOOMIS ST</td>\n",
              "      <td>THEFT</td>\n",
              "      <td>RESIDENCE</td>\n",
              "      <td>False</td>\n",
              "      <td>1224</td>\n",
              "      <td>12</td>\n",
              "      <td>27</td>\n",
              "      <td>28</td>\n",
              "      <td>2019</td>\n",
              "      <td>41.882002</td>\n",
              "      <td>-87.662287</td>\n",
              "      <td>2019-10-05</td>\n",
              "      <td>7</td>\n",
              "      <td>10</td>\n",
              "      <td>7</td>\n",
              "    </tr>\n",
              "  </tbody>\n",
              "</table>\n",
              "</div>"
            ],
            "text/plain": [
              "                     Date                 Block         Primary Type  \\\n",
              "0  03/17/2020 09:30:00 PM  039XX N LECLAIRE AVE                THEFT   \n",
              "1  09/24/2019 08:00:00 AM  022XX S MICHIGAN AVE   DECEPTIVE PRACTICE   \n",
              "2  10/13/2019 08:30:00 PM   024XX W CHICAGO AVE                THEFT   \n",
              "3  03/18/2020 02:03:00 AM  039XX W JACKSON BLVD  MOTOR VEHICLE THEFT   \n",
              "4  10/05/2019 06:30:00 PM     0000X N LOOMIS ST                THEFT   \n",
              "\n",
              "           Location Description  Arrest  Beat  District  Ward  Community Area  \\\n",
              "0                        STREET   False  1634        16    45              15   \n",
              "1  COMMERCIAL / BUSINESS OFFICE   False   132         1     3              33   \n",
              "2            GROCERY FOOD STORE   False  1221        12    26              24   \n",
              "3                     APARTMENT   False  1132        11    28              26   \n",
              "4                     RESIDENCE   False  1224        12    27              28   \n",
              "\n",
              "   Year   Latitude  Longitude  Final_Date  Week  Month  Day  \n",
              "0  2020  41.952052 -87.754660  2020-03-17     3      3    3  \n",
              "1  2019  41.852248 -87.623786  2019-09-24     3      9    3  \n",
              "2  2019  41.895732 -87.687784  2019-10-13     1     10    1  \n",
              "3  2020  41.877110 -87.723990  2020-03-18     4      3    4  \n",
              "4  2019  41.882002 -87.662287  2019-10-05     7     10    7  "
            ]
          },
          "execution_count": 29,
          "metadata": {},
          "output_type": "execute_result"
        }
      ],
      "source": [
        "df1.head()"
      ]
    },
    {
      "cell_type": "code",
      "execution_count": null,
      "metadata": {
        "id": "CzJJ_PymhpJm"
      },
      "outputs": [],
      "source": [
        "df1 = df1.drop('Date',axis=1)"
      ]
    },
    {
      "cell_type": "code",
      "execution_count": null,
      "metadata": {
        "id": "VO62j3aYhpJm"
      },
      "outputs": [],
      "source": [
        "df1 = df1.drop('Final_Date',axis=1)"
      ]
    },
    {
      "cell_type": "code",
      "execution_count": null,
      "metadata": {
        "id": "btMAHj9ghpJm",
        "outputId": "7bb258b6-0239-4c58-91ea-cb14dce6f3bf"
      },
      "outputs": [
        {
          "data": {
            "text/html": [
              "<div>\n",
              "<style scoped>\n",
              "    .dataframe tbody tr th:only-of-type {\n",
              "        vertical-align: middle;\n",
              "    }\n",
              "\n",
              "    .dataframe tbody tr th {\n",
              "        vertical-align: top;\n",
              "    }\n",
              "\n",
              "    .dataframe thead th {\n",
              "        text-align: right;\n",
              "    }\n",
              "</style>\n",
              "<table border=\"1\" class=\"dataframe\">\n",
              "  <thead>\n",
              "    <tr style=\"text-align: right;\">\n",
              "      <th></th>\n",
              "      <th>Block</th>\n",
              "      <th>Primary Type</th>\n",
              "      <th>Location Description</th>\n",
              "      <th>Arrest</th>\n",
              "      <th>Beat</th>\n",
              "      <th>District</th>\n",
              "      <th>Ward</th>\n",
              "      <th>Community Area</th>\n",
              "      <th>Year</th>\n",
              "      <th>Latitude</th>\n",
              "      <th>Longitude</th>\n",
              "      <th>Week</th>\n",
              "      <th>Month</th>\n",
              "      <th>Day</th>\n",
              "    </tr>\n",
              "  </thead>\n",
              "  <tbody>\n",
              "    <tr>\n",
              "      <th>0</th>\n",
              "      <td>039XX N LECLAIRE AVE</td>\n",
              "      <td>THEFT</td>\n",
              "      <td>STREET</td>\n",
              "      <td>False</td>\n",
              "      <td>1634</td>\n",
              "      <td>16</td>\n",
              "      <td>45</td>\n",
              "      <td>15</td>\n",
              "      <td>2020</td>\n",
              "      <td>41.952052</td>\n",
              "      <td>-87.754660</td>\n",
              "      <td>3</td>\n",
              "      <td>3</td>\n",
              "      <td>3</td>\n",
              "    </tr>\n",
              "    <tr>\n",
              "      <th>1</th>\n",
              "      <td>022XX S MICHIGAN AVE</td>\n",
              "      <td>DECEPTIVE PRACTICE</td>\n",
              "      <td>COMMERCIAL / BUSINESS OFFICE</td>\n",
              "      <td>False</td>\n",
              "      <td>132</td>\n",
              "      <td>1</td>\n",
              "      <td>3</td>\n",
              "      <td>33</td>\n",
              "      <td>2019</td>\n",
              "      <td>41.852248</td>\n",
              "      <td>-87.623786</td>\n",
              "      <td>3</td>\n",
              "      <td>9</td>\n",
              "      <td>3</td>\n",
              "    </tr>\n",
              "    <tr>\n",
              "      <th>2</th>\n",
              "      <td>024XX W CHICAGO AVE</td>\n",
              "      <td>THEFT</td>\n",
              "      <td>GROCERY FOOD STORE</td>\n",
              "      <td>False</td>\n",
              "      <td>1221</td>\n",
              "      <td>12</td>\n",
              "      <td>26</td>\n",
              "      <td>24</td>\n",
              "      <td>2019</td>\n",
              "      <td>41.895732</td>\n",
              "      <td>-87.687784</td>\n",
              "      <td>1</td>\n",
              "      <td>10</td>\n",
              "      <td>1</td>\n",
              "    </tr>\n",
              "    <tr>\n",
              "      <th>3</th>\n",
              "      <td>039XX W JACKSON BLVD</td>\n",
              "      <td>MOTOR VEHICLE THEFT</td>\n",
              "      <td>APARTMENT</td>\n",
              "      <td>False</td>\n",
              "      <td>1132</td>\n",
              "      <td>11</td>\n",
              "      <td>28</td>\n",
              "      <td>26</td>\n",
              "      <td>2020</td>\n",
              "      <td>41.877110</td>\n",
              "      <td>-87.723990</td>\n",
              "      <td>4</td>\n",
              "      <td>3</td>\n",
              "      <td>4</td>\n",
              "    </tr>\n",
              "    <tr>\n",
              "      <th>4</th>\n",
              "      <td>0000X N LOOMIS ST</td>\n",
              "      <td>THEFT</td>\n",
              "      <td>RESIDENCE</td>\n",
              "      <td>False</td>\n",
              "      <td>1224</td>\n",
              "      <td>12</td>\n",
              "      <td>27</td>\n",
              "      <td>28</td>\n",
              "      <td>2019</td>\n",
              "      <td>41.882002</td>\n",
              "      <td>-87.662287</td>\n",
              "      <td>7</td>\n",
              "      <td>10</td>\n",
              "      <td>7</td>\n",
              "    </tr>\n",
              "  </tbody>\n",
              "</table>\n",
              "</div>"
            ],
            "text/plain": [
              "                  Block         Primary Type          Location Description  \\\n",
              "0  039XX N LECLAIRE AVE                THEFT                        STREET   \n",
              "1  022XX S MICHIGAN AVE   DECEPTIVE PRACTICE  COMMERCIAL / BUSINESS OFFICE   \n",
              "2   024XX W CHICAGO AVE                THEFT            GROCERY FOOD STORE   \n",
              "3  039XX W JACKSON BLVD  MOTOR VEHICLE THEFT                     APARTMENT   \n",
              "4     0000X N LOOMIS ST                THEFT                     RESIDENCE   \n",
              "\n",
              "   Arrest  Beat  District  Ward  Community Area  Year   Latitude  Longitude  \\\n",
              "0   False  1634        16    45              15  2020  41.952052 -87.754660   \n",
              "1   False   132         1     3              33  2019  41.852248 -87.623786   \n",
              "2   False  1221        12    26              24  2019  41.895732 -87.687784   \n",
              "3   False  1132        11    28              26  2020  41.877110 -87.723990   \n",
              "4   False  1224        12    27              28  2019  41.882002 -87.662287   \n",
              "\n",
              "   Week  Month  Day  \n",
              "0     3      3    3  \n",
              "1     3      9    3  \n",
              "2     1     10    1  \n",
              "3     4      3    4  \n",
              "4     7     10    7  "
            ]
          },
          "execution_count": 32,
          "metadata": {},
          "output_type": "execute_result"
        }
      ],
      "source": [
        "df1.head()"
      ]
    },
    {
      "cell_type": "markdown",
      "metadata": {
        "id": "poa9jZIbhpJm"
      },
      "source": [
        "                                        MACHINE LEARNING ALGORITHM STARTS"
      ]
    },
    {
      "cell_type": "code",
      "execution_count": null,
      "metadata": {
        "id": "1L7qxzighpJo"
      },
      "outputs": [],
      "source": [
        "df1 = df1.replace(to_replace='None', value=np.nan).dropna()"
      ]
    },
    {
      "cell_type": "markdown",
      "metadata": {
        "id": "P0-w2-kahpJo"
      },
      "source": [
        "                                Creating One hot Label Encoder for the features"
      ]
    },
    {
      "cell_type": "code",
      "execution_count": null,
      "metadata": {
        "id": "CeyI-LqYhpJo"
      },
      "outputs": [],
      "source": [
        "labelEncoder = LabelEncoder()"
      ]
    },
    {
      "cell_type": "code",
      "execution_count": null,
      "metadata": {
        "id": "KobaQSqPhpJo",
        "outputId": "0be3382a-ffd8-4224-ed25-2a18c3578664"
      },
      "outputs": [
        {
          "data": {
            "text/plain": [
              "array([32,  9, 32, ..., 22, 22, 22])"
            ]
          },
          "execution_count": 35,
          "metadata": {},
          "output_type": "execute_result"
        }
      ],
      "source": [
        "primaryEncoded = labelEncoder.fit_transform(df1['Primary Type'])\n",
        "primaryEncoded"
      ]
    },
    {
      "cell_type": "code",
      "execution_count": null,
      "metadata": {
        "id": "qBY4s7CUhpJp"
      },
      "outputs": [],
      "source": [
        "df1['Primary Type'] = primaryEncoded\n"
      ]
    },
    {
      "cell_type": "code",
      "execution_count": null,
      "metadata": {
        "id": "gYE3P9DShpJp"
      },
      "outputs": [],
      "source": [
        "labelEncoder2 = LabelEncoder()"
      ]
    },
    {
      "cell_type": "code",
      "execution_count": null,
      "metadata": {
        "id": "00MbtX2LhpJq",
        "outputId": "01add627-4726-4fec-94a2-07f18efbc299"
      },
      "outputs": [
        {
          "data": {
            "text/plain": [
              "array([161,  56,  91, ...,  19,  19, 135])"
            ]
          },
          "execution_count": 38,
          "metadata": {},
          "output_type": "execute_result"
        }
      ],
      "source": [
        "locDiscEncoded = labelEncoder2.fit_transform(df1['Location Description'])\n",
        "locDiscEncoded"
      ]
    },
    {
      "cell_type": "code",
      "execution_count": null,
      "metadata": {
        "id": "imukBiQfhpJq"
      },
      "outputs": [],
      "source": [
        "df1['Location Description'] = locDiscEncoded"
      ]
    },
    {
      "cell_type": "code",
      "execution_count": null,
      "metadata": {
        "id": "AB9mXxI-hpJr"
      },
      "outputs": [],
      "source": [
        "labelEncoder3 = LabelEncoder()"
      ]
    },
    {
      "cell_type": "code",
      "execution_count": null,
      "metadata": {
        "id": "Zk45bYmThpJr",
        "outputId": "ec0cfb5f-7795-4b75-b1ae-ca743c03a2a3"
      },
      "outputs": [
        {
          "data": {
            "text/plain": [
              "array([161,  56,  91, ...,  19,  19, 135])"
            ]
          },
          "execution_count": 41,
          "metadata": {},
          "output_type": "execute_result"
        }
      ],
      "source": [
        "blockEncoded = labelEncoder2.fit_transform(df1['Location Description'])\n",
        "blockEncoded"
      ]
    },
    {
      "cell_type": "code",
      "execution_count": null,
      "metadata": {
        "id": "kKB0KVH7hpJs"
      },
      "outputs": [],
      "source": [
        "df1['Block'] = locDiscEncoded\n"
      ]
    },
    {
      "cell_type": "code",
      "execution_count": null,
      "metadata": {
        "id": "lPXrlkZRhpJs",
        "outputId": "5bb8ecff-d405-4c51-a7cb-5575c04d0f14"
      },
      "outputs": [
        {
          "data": {
            "text/html": [
              "<div>\n",
              "<style scoped>\n",
              "    .dataframe tbody tr th:only-of-type {\n",
              "        vertical-align: middle;\n",
              "    }\n",
              "\n",
              "    .dataframe tbody tr th {\n",
              "        vertical-align: top;\n",
              "    }\n",
              "\n",
              "    .dataframe thead th {\n",
              "        text-align: right;\n",
              "    }\n",
              "</style>\n",
              "<table border=\"1\" class=\"dataframe\">\n",
              "  <thead>\n",
              "    <tr style=\"text-align: right;\">\n",
              "      <th></th>\n",
              "      <th>Block</th>\n",
              "      <th>Primary Type</th>\n",
              "      <th>Location Description</th>\n",
              "      <th>Arrest</th>\n",
              "      <th>Beat</th>\n",
              "      <th>District</th>\n",
              "      <th>Ward</th>\n",
              "      <th>Community Area</th>\n",
              "      <th>Year</th>\n",
              "      <th>Latitude</th>\n",
              "      <th>Longitude</th>\n",
              "      <th>Week</th>\n",
              "      <th>Month</th>\n",
              "      <th>Day</th>\n",
              "      <th>Location</th>\n",
              "    </tr>\n",
              "  </thead>\n",
              "  <tbody>\n",
              "    <tr>\n",
              "      <th>0</th>\n",
              "      <td>161</td>\n",
              "      <td>32</td>\n",
              "      <td>161</td>\n",
              "      <td>False</td>\n",
              "      <td>1634</td>\n",
              "      <td>16</td>\n",
              "      <td>45</td>\n",
              "      <td>15</td>\n",
              "      <td>2020</td>\n",
              "      <td>41.952052</td>\n",
              "      <td>-87.754660</td>\n",
              "      <td>3</td>\n",
              "      <td>3</td>\n",
              "      <td>3</td>\n",
              "      <td>0.135458</td>\n",
              "    </tr>\n",
              "    <tr>\n",
              "      <th>1</th>\n",
              "      <td>56</td>\n",
              "      <td>9</td>\n",
              "      <td>56</td>\n",
              "      <td>False</td>\n",
              "      <td>132</td>\n",
              "      <td>1</td>\n",
              "      <td>3</td>\n",
              "      <td>33</td>\n",
              "      <td>2019</td>\n",
              "      <td>41.852248</td>\n",
              "      <td>-87.623786</td>\n",
              "      <td>3</td>\n",
              "      <td>9</td>\n",
              "      <td>3</td>\n",
              "      <td>-0.012868</td>\n",
              "    </tr>\n",
              "    <tr>\n",
              "      <th>2</th>\n",
              "      <td>91</td>\n",
              "      <td>32</td>\n",
              "      <td>91</td>\n",
              "      <td>False</td>\n",
              "      <td>1221</td>\n",
              "      <td>12</td>\n",
              "      <td>26</td>\n",
              "      <td>24</td>\n",
              "      <td>2019</td>\n",
              "      <td>41.895732</td>\n",
              "      <td>-87.687784</td>\n",
              "      <td>1</td>\n",
              "      <td>10</td>\n",
              "      <td>1</td>\n",
              "      <td>0.054923</td>\n",
              "    </tr>\n",
              "    <tr>\n",
              "      <th>3</th>\n",
              "      <td>19</td>\n",
              "      <td>17</td>\n",
              "      <td>19</td>\n",
              "      <td>False</td>\n",
              "      <td>1132</td>\n",
              "      <td>11</td>\n",
              "      <td>28</td>\n",
              "      <td>26</td>\n",
              "      <td>2020</td>\n",
              "      <td>41.877110</td>\n",
              "      <td>-87.723990</td>\n",
              "      <td>4</td>\n",
              "      <td>3</td>\n",
              "      <td>4</td>\n",
              "      <td>0.054758</td>\n",
              "    </tr>\n",
              "    <tr>\n",
              "      <th>4</th>\n",
              "      <td>135</td>\n",
              "      <td>32</td>\n",
              "      <td>135</td>\n",
              "      <td>False</td>\n",
              "      <td>1224</td>\n",
              "      <td>12</td>\n",
              "      <td>27</td>\n",
              "      <td>28</td>\n",
              "      <td>2019</td>\n",
              "      <td>41.882002</td>\n",
              "      <td>-87.662287</td>\n",
              "      <td>7</td>\n",
              "      <td>10</td>\n",
              "      <td>7</td>\n",
              "      <td>0.031117</td>\n",
              "    </tr>\n",
              "  </tbody>\n",
              "</table>\n",
              "</div>"
            ],
            "text/plain": [
              "   Block  Primary Type  Location Description  Arrest  Beat  District  Ward  \\\n",
              "0    161            32                   161   False  1634        16    45   \n",
              "1     56             9                    56   False   132         1     3   \n",
              "2     91            32                    91   False  1221        12    26   \n",
              "3     19            17                    19   False  1132        11    28   \n",
              "4    135            32                   135   False  1224        12    27   \n",
              "\n",
              "   Community Area  Year   Latitude  Longitude  Week  Month  Day  Location  \n",
              "0              15  2020  41.952052 -87.754660     3      3    3  0.135458  \n",
              "1              33  2019  41.852248 -87.623786     3      9    3 -0.012868  \n",
              "2              24  2019  41.895732 -87.687784     1     10    1  0.054923  \n",
              "3              26  2020  41.877110 -87.723990     4      3    4  0.054758  \n",
              "4              28  2019  41.882002 -87.662287     7     10    7  0.031117  "
            ]
          },
          "execution_count": 43,
          "metadata": {},
          "output_type": "execute_result"
        }
      ],
      "source": [
        "from sklearn.decomposition import PCA\n",
        "\n",
        "location = df1[['Latitude','Longitude']]\n",
        "pca = PCA(n_components=1,random_state=100)\n",
        "\n",
        "\n",
        "loc = pca.fit_transform(location)\n",
        "\n",
        "\n",
        "df1['Location'] = loc\n",
        "\n",
        "\n",
        "df1.head(5)"
      ]
    },
    {
      "cell_type": "markdown",
      "metadata": {
        "id": "dq33IXcAhpJt"
      },
      "source": [
        "                            We are just taking a small amount of data just for the start"
      ]
    },
    {
      "cell_type": "code",
      "execution_count": null,
      "metadata": {
        "id": "ue_LxxlOhpJt"
      },
      "outputs": [],
      "source": [
        "df1_little = df1.sample(frac=0.1, random_state=123)\n"
      ]
    },
    {
      "cell_type": "markdown",
      "metadata": {
        "id": "VEi-RidmhpJu"
      },
      "source": [
        "                                        KNN ML START FROM HERE"
      ]
    },
    {
      "cell_type": "code",
      "execution_count": null,
      "metadata": {
        "id": "JV79MPuzhpJu"
      },
      "outputs": [],
      "source": [
        "from sklearn.ensemble import ExtraTreesClassifier\n",
        "import matplotlib.pyplot as plt\n",
        "model = ExtraTreesClassifier()"
      ]
    },
    {
      "cell_type": "code",
      "execution_count": null,
      "metadata": {
        "id": "QqtGFHophpJv",
        "outputId": "2ece59a2-d4cd-490f-8a83-6e3512bf04f5"
      },
      "outputs": [
        {
          "data": {
            "text/plain": [
              "ExtraTreesClassifier()"
            ]
          },
          "execution_count": 46,
          "metadata": {},
          "output_type": "execute_result"
        }
      ],
      "source": [
        "X = df1_little.loc[:, df1.columns != 'Primary Type']\n",
        "\n",
        "model.fit(X,df1_little['Primary Type'])\n"
      ]
    },
    {
      "cell_type": "code",
      "execution_count": null,
      "metadata": {
        "id": "GbJF2iH0hpJv",
        "outputId": "cffab7bf-fac0-4313-82db-bb0e24c28998"
      },
      "outputs": [
        {
          "data": {
            "text/html": [
              "<div>\n",
              "<style scoped>\n",
              "    .dataframe tbody tr th:only-of-type {\n",
              "        vertical-align: middle;\n",
              "    }\n",
              "\n",
              "    .dataframe tbody tr th {\n",
              "        vertical-align: top;\n",
              "    }\n",
              "\n",
              "    .dataframe thead th {\n",
              "        text-align: right;\n",
              "    }\n",
              "</style>\n",
              "<table border=\"1\" class=\"dataframe\">\n",
              "  <thead>\n",
              "    <tr style=\"text-align: right;\">\n",
              "      <th></th>\n",
              "      <th>Block</th>\n",
              "      <th>Primary Type</th>\n",
              "      <th>Location Description</th>\n",
              "      <th>Arrest</th>\n",
              "      <th>Beat</th>\n",
              "      <th>District</th>\n",
              "      <th>Ward</th>\n",
              "      <th>Community Area</th>\n",
              "      <th>Year</th>\n",
              "      <th>Latitude</th>\n",
              "      <th>Longitude</th>\n",
              "      <th>Week</th>\n",
              "      <th>Month</th>\n",
              "      <th>Day</th>\n",
              "      <th>Location</th>\n",
              "    </tr>\n",
              "  </thead>\n",
              "  <tbody>\n",
              "    <tr>\n",
              "      <th>Block</th>\n",
              "      <td>1.000000</td>\n",
              "      <td>0.126239</td>\n",
              "      <td>1.000000</td>\n",
              "      <td>0.042700</td>\n",
              "      <td>0.007728</td>\n",
              "      <td>0.008044</td>\n",
              "      <td>-0.010672</td>\n",
              "      <td>0.021605</td>\n",
              "      <td>-0.060912</td>\n",
              "      <td>-0.046304</td>\n",
              "      <td>-0.014394</td>\n",
              "      <td>0.003775</td>\n",
              "      <td>0.008894</td>\n",
              "      <td>0.003775</td>\n",
              "      <td>-0.033780</td>\n",
              "    </tr>\n",
              "    <tr>\n",
              "      <th>Primary Type</th>\n",
              "      <td>0.126239</td>\n",
              "      <td>1.000000</td>\n",
              "      <td>0.126239</td>\n",
              "      <td>0.035387</td>\n",
              "      <td>0.031127</td>\n",
              "      <td>0.031164</td>\n",
              "      <td>0.063215</td>\n",
              "      <td>-0.082289</td>\n",
              "      <td>-0.030023</td>\n",
              "      <td>0.082877</td>\n",
              "      <td>0.010464</td>\n",
              "      <td>0.014968</td>\n",
              "      <td>0.009039</td>\n",
              "      <td>0.014968</td>\n",
              "      <td>0.064809</td>\n",
              "    </tr>\n",
              "    <tr>\n",
              "      <th>Location Description</th>\n",
              "      <td>1.000000</td>\n",
              "      <td>0.126239</td>\n",
              "      <td>1.000000</td>\n",
              "      <td>0.042700</td>\n",
              "      <td>0.007728</td>\n",
              "      <td>0.008044</td>\n",
              "      <td>-0.010672</td>\n",
              "      <td>0.021605</td>\n",
              "      <td>-0.060912</td>\n",
              "      <td>-0.046304</td>\n",
              "      <td>-0.014394</td>\n",
              "      <td>0.003775</td>\n",
              "      <td>0.008894</td>\n",
              "      <td>0.003775</td>\n",
              "      <td>-0.033780</td>\n",
              "    </tr>\n",
              "    <tr>\n",
              "      <th>Arrest</th>\n",
              "      <td>0.042700</td>\n",
              "      <td>0.035387</td>\n",
              "      <td>0.042700</td>\n",
              "      <td>1.000000</td>\n",
              "      <td>-0.034331</td>\n",
              "      <td>-0.034445</td>\n",
              "      <td>-0.022364</td>\n",
              "      <td>0.027089</td>\n",
              "      <td>-0.063605</td>\n",
              "      <td>-0.035919</td>\n",
              "      <td>-0.027107</td>\n",
              "      <td>0.006441</td>\n",
              "      <td>-0.032294</td>\n",
              "      <td>0.006441</td>\n",
              "      <td>-0.021673</td>\n",
              "    </tr>\n",
              "    <tr>\n",
              "      <th>Beat</th>\n",
              "      <td>0.007728</td>\n",
              "      <td>0.031127</td>\n",
              "      <td>0.007728</td>\n",
              "      <td>-0.034331</td>\n",
              "      <td>1.000000</td>\n",
              "      <td>0.999752</td>\n",
              "      <td>0.648431</td>\n",
              "      <td>-0.485473</td>\n",
              "      <td>0.001822</td>\n",
              "      <td>0.630033</td>\n",
              "      <td>-0.540902</td>\n",
              "      <td>0.001727</td>\n",
              "      <td>0.004339</td>\n",
              "      <td>0.001727</td>\n",
              "      <td>0.669018</td>\n",
              "    </tr>\n",
              "    <tr>\n",
              "      <th>District</th>\n",
              "      <td>0.008044</td>\n",
              "      <td>0.031164</td>\n",
              "      <td>0.008044</td>\n",
              "      <td>-0.034445</td>\n",
              "      <td>0.999752</td>\n",
              "      <td>1.000000</td>\n",
              "      <td>0.649672</td>\n",
              "      <td>-0.485962</td>\n",
              "      <td>0.001813</td>\n",
              "      <td>0.631280</td>\n",
              "      <td>-0.541943</td>\n",
              "      <td>0.001761</td>\n",
              "      <td>0.004403</td>\n",
              "      <td>0.001761</td>\n",
              "      <td>0.670334</td>\n",
              "    </tr>\n",
              "    <tr>\n",
              "      <th>Ward</th>\n",
              "      <td>-0.010672</td>\n",
              "      <td>0.063215</td>\n",
              "      <td>-0.010672</td>\n",
              "      <td>-0.022364</td>\n",
              "      <td>0.648431</td>\n",
              "      <td>0.649672</td>\n",
              "      <td>1.000000</td>\n",
              "      <td>-0.522752</td>\n",
              "      <td>-0.008421</td>\n",
              "      <td>0.659927</td>\n",
              "      <td>-0.446993</td>\n",
              "      <td>0.006881</td>\n",
              "      <td>0.005058</td>\n",
              "      <td>0.006881</td>\n",
              "      <td>0.666778</td>\n",
              "    </tr>\n",
              "    <tr>\n",
              "      <th>Community Area</th>\n",
              "      <td>0.021605</td>\n",
              "      <td>-0.082289</td>\n",
              "      <td>0.021605</td>\n",
              "      <td>0.027089</td>\n",
              "      <td>-0.485473</td>\n",
              "      <td>-0.485962</td>\n",
              "      <td>-0.522752</td>\n",
              "      <td>1.000000</td>\n",
              "      <td>0.014561</td>\n",
              "      <td>-0.770662</td>\n",
              "      <td>0.234774</td>\n",
              "      <td>-0.008104</td>\n",
              "      <td>-0.008901</td>\n",
              "      <td>-0.008104</td>\n",
              "      <td>-0.697030</td>\n",
              "    </tr>\n",
              "    <tr>\n",
              "      <th>Year</th>\n",
              "      <td>-0.060912</td>\n",
              "      <td>-0.030023</td>\n",
              "      <td>-0.060912</td>\n",
              "      <td>-0.063605</td>\n",
              "      <td>0.001822</td>\n",
              "      <td>0.001813</td>\n",
              "      <td>-0.008421</td>\n",
              "      <td>0.014561</td>\n",
              "      <td>1.000000</td>\n",
              "      <td>-0.013661</td>\n",
              "      <td>0.000881</td>\n",
              "      <td>-0.002442</td>\n",
              "      <td>0.006461</td>\n",
              "      <td>-0.002442</td>\n",
              "      <td>-0.011423</td>\n",
              "    </tr>\n",
              "    <tr>\n",
              "      <th>Latitude</th>\n",
              "      <td>-0.046304</td>\n",
              "      <td>0.082877</td>\n",
              "      <td>-0.046304</td>\n",
              "      <td>-0.035919</td>\n",
              "      <td>0.630033</td>\n",
              "      <td>0.631280</td>\n",
              "      <td>0.659927</td>\n",
              "      <td>-0.770662</td>\n",
              "      <td>-0.013661</td>\n",
              "      <td>1.000000</td>\n",
              "      <td>-0.538410</td>\n",
              "      <td>0.006720</td>\n",
              "      <td>0.006981</td>\n",
              "      <td>0.006720</td>\n",
              "      <td>0.970896</td>\n",
              "    </tr>\n",
              "    <tr>\n",
              "      <th>Longitude</th>\n",
              "      <td>-0.014394</td>\n",
              "      <td>0.010464</td>\n",
              "      <td>-0.014394</td>\n",
              "      <td>-0.027107</td>\n",
              "      <td>-0.540902</td>\n",
              "      <td>-0.541943</td>\n",
              "      <td>-0.446993</td>\n",
              "      <td>0.234774</td>\n",
              "      <td>0.000881</td>\n",
              "      <td>-0.538410</td>\n",
              "      <td>1.000000</td>\n",
              "      <td>0.002448</td>\n",
              "      <td>0.006474</td>\n",
              "      <td>0.002448</td>\n",
              "      <td>-0.724563</td>\n",
              "    </tr>\n",
              "    <tr>\n",
              "      <th>Week</th>\n",
              "      <td>0.003775</td>\n",
              "      <td>0.014968</td>\n",
              "      <td>0.003775</td>\n",
              "      <td>0.006441</td>\n",
              "      <td>0.001727</td>\n",
              "      <td>0.001761</td>\n",
              "      <td>0.006881</td>\n",
              "      <td>-0.008104</td>\n",
              "      <td>-0.002442</td>\n",
              "      <td>0.006720</td>\n",
              "      <td>0.002448</td>\n",
              "      <td>1.000000</td>\n",
              "      <td>-0.001313</td>\n",
              "      <td>1.000000</td>\n",
              "      <td>0.004800</td>\n",
              "    </tr>\n",
              "    <tr>\n",
              "      <th>Month</th>\n",
              "      <td>0.008894</td>\n",
              "      <td>0.009039</td>\n",
              "      <td>0.008894</td>\n",
              "      <td>-0.032294</td>\n",
              "      <td>0.004339</td>\n",
              "      <td>0.004403</td>\n",
              "      <td>0.005058</td>\n",
              "      <td>-0.008901</td>\n",
              "      <td>0.006461</td>\n",
              "      <td>0.006981</td>\n",
              "      <td>0.006474</td>\n",
              "      <td>-0.001313</td>\n",
              "      <td>1.000000</td>\n",
              "      <td>-0.001313</td>\n",
              "      <td>0.003870</td>\n",
              "    </tr>\n",
              "    <tr>\n",
              "      <th>Day</th>\n",
              "      <td>0.003775</td>\n",
              "      <td>0.014968</td>\n",
              "      <td>0.003775</td>\n",
              "      <td>0.006441</td>\n",
              "      <td>0.001727</td>\n",
              "      <td>0.001761</td>\n",
              "      <td>0.006881</td>\n",
              "      <td>-0.008104</td>\n",
              "      <td>-0.002442</td>\n",
              "      <td>0.006720</td>\n",
              "      <td>0.002448</td>\n",
              "      <td>1.000000</td>\n",
              "      <td>-0.001313</td>\n",
              "      <td>1.000000</td>\n",
              "      <td>0.004800</td>\n",
              "    </tr>\n",
              "    <tr>\n",
              "      <th>Location</th>\n",
              "      <td>-0.033780</td>\n",
              "      <td>0.064809</td>\n",
              "      <td>-0.033780</td>\n",
              "      <td>-0.021673</td>\n",
              "      <td>0.669018</td>\n",
              "      <td>0.670334</td>\n",
              "      <td>0.666778</td>\n",
              "      <td>-0.697030</td>\n",
              "      <td>-0.011423</td>\n",
              "      <td>0.970896</td>\n",
              "      <td>-0.724563</td>\n",
              "      <td>0.004800</td>\n",
              "      <td>0.003870</td>\n",
              "      <td>0.004800</td>\n",
              "      <td>1.000000</td>\n",
              "    </tr>\n",
              "  </tbody>\n",
              "</table>\n",
              "</div>"
            ],
            "text/plain": [
              "                         Block  Primary Type  Location Description    Arrest  \\\n",
              "Block                 1.000000      0.126239              1.000000  0.042700   \n",
              "Primary Type          0.126239      1.000000              0.126239  0.035387   \n",
              "Location Description  1.000000      0.126239              1.000000  0.042700   \n",
              "Arrest                0.042700      0.035387              0.042700  1.000000   \n",
              "Beat                  0.007728      0.031127              0.007728 -0.034331   \n",
              "District              0.008044      0.031164              0.008044 -0.034445   \n",
              "Ward                 -0.010672      0.063215             -0.010672 -0.022364   \n",
              "Community Area        0.021605     -0.082289              0.021605  0.027089   \n",
              "Year                 -0.060912     -0.030023             -0.060912 -0.063605   \n",
              "Latitude             -0.046304      0.082877             -0.046304 -0.035919   \n",
              "Longitude            -0.014394      0.010464             -0.014394 -0.027107   \n",
              "Week                  0.003775      0.014968              0.003775  0.006441   \n",
              "Month                 0.008894      0.009039              0.008894 -0.032294   \n",
              "Day                   0.003775      0.014968              0.003775  0.006441   \n",
              "Location             -0.033780      0.064809             -0.033780 -0.021673   \n",
              "\n",
              "                          Beat  District      Ward  Community Area      Year  \\\n",
              "Block                 0.007728  0.008044 -0.010672        0.021605 -0.060912   \n",
              "Primary Type          0.031127  0.031164  0.063215       -0.082289 -0.030023   \n",
              "Location Description  0.007728  0.008044 -0.010672        0.021605 -0.060912   \n",
              "Arrest               -0.034331 -0.034445 -0.022364        0.027089 -0.063605   \n",
              "Beat                  1.000000  0.999752  0.648431       -0.485473  0.001822   \n",
              "District              0.999752  1.000000  0.649672       -0.485962  0.001813   \n",
              "Ward                  0.648431  0.649672  1.000000       -0.522752 -0.008421   \n",
              "Community Area       -0.485473 -0.485962 -0.522752        1.000000  0.014561   \n",
              "Year                  0.001822  0.001813 -0.008421        0.014561  1.000000   \n",
              "Latitude              0.630033  0.631280  0.659927       -0.770662 -0.013661   \n",
              "Longitude            -0.540902 -0.541943 -0.446993        0.234774  0.000881   \n",
              "Week                  0.001727  0.001761  0.006881       -0.008104 -0.002442   \n",
              "Month                 0.004339  0.004403  0.005058       -0.008901  0.006461   \n",
              "Day                   0.001727  0.001761  0.006881       -0.008104 -0.002442   \n",
              "Location              0.669018  0.670334  0.666778       -0.697030 -0.011423   \n",
              "\n",
              "                      Latitude  Longitude      Week     Month       Day  \\\n",
              "Block                -0.046304  -0.014394  0.003775  0.008894  0.003775   \n",
              "Primary Type          0.082877   0.010464  0.014968  0.009039  0.014968   \n",
              "Location Description -0.046304  -0.014394  0.003775  0.008894  0.003775   \n",
              "Arrest               -0.035919  -0.027107  0.006441 -0.032294  0.006441   \n",
              "Beat                  0.630033  -0.540902  0.001727  0.004339  0.001727   \n",
              "District              0.631280  -0.541943  0.001761  0.004403  0.001761   \n",
              "Ward                  0.659927  -0.446993  0.006881  0.005058  0.006881   \n",
              "Community Area       -0.770662   0.234774 -0.008104 -0.008901 -0.008104   \n",
              "Year                 -0.013661   0.000881 -0.002442  0.006461 -0.002442   \n",
              "Latitude              1.000000  -0.538410  0.006720  0.006981  0.006720   \n",
              "Longitude            -0.538410   1.000000  0.002448  0.006474  0.002448   \n",
              "Week                  0.006720   0.002448  1.000000 -0.001313  1.000000   \n",
              "Month                 0.006981   0.006474 -0.001313  1.000000 -0.001313   \n",
              "Day                   0.006720   0.002448  1.000000 -0.001313  1.000000   \n",
              "Location              0.970896  -0.724563  0.004800  0.003870  0.004800   \n",
              "\n",
              "                      Location  \n",
              "Block                -0.033780  \n",
              "Primary Type          0.064809  \n",
              "Location Description -0.033780  \n",
              "Arrest               -0.021673  \n",
              "Beat                  0.669018  \n",
              "District              0.670334  \n",
              "Ward                  0.666778  \n",
              "Community Area       -0.697030  \n",
              "Year                 -0.011423  \n",
              "Latitude              0.970896  \n",
              "Longitude            -0.724563  \n",
              "Week                  0.004800  \n",
              "Month                 0.003870  \n",
              "Day                   0.004800  \n",
              "Location              1.000000  "
            ]
          },
          "execution_count": 47,
          "metadata": {},
          "output_type": "execute_result"
        }
      ],
      "source": [
        "correlation_matrix = df1.corr()\n",
        "correlation_matrix"
      ]
    },
    {
      "cell_type": "code",
      "execution_count": null,
      "metadata": {
        "id": "-U-SSGUQhpJv",
        "outputId": "fa416e58-71a0-416e-d551-a2b7937380a3"
      },
      "outputs": [
        {
          "data": {
            "text/plain": [
              "<AxesSubplot:>"
            ]
          },
          "execution_count": 48,
          "metadata": {},
          "output_type": "execute_result"
        },
        {
          "data": {
            "image/png": "[encoded data removed]",
            "text/plain": [
              "<Figure size 432x288 with 2 Axes>"
            ]
          },
          "metadata": {
            "needs_background": "light"
          },
          "output_type": "display_data"
        }
      ],
      "source": [
        "sns.heatmap(correlation_matrix)"
      ]
    },
    {
      "cell_type": "code",
      "execution_count": null,
      "metadata": {
        "id": "rZKD2BRWhpJw"
      },
      "outputs": [],
      "source": [
        "columns_selection = ['Latitude','Longitude','Location Description','Block','Day']"
      ]
    },
    {
      "cell_type": "markdown",
      "metadata": {
        "id": "vPTo1PWlhpJw"
      },
      "source": [
        "                The data has been splitted into 80% to 20% ration which is 80% training and 20% testing"
      ]
    },
    {
      "cell_type": "code",
      "execution_count": null,
      "metadata": {
        "id": "35lpCl52hpJw"
      },
      "outputs": [],
      "source": [
        "from sklearn.model_selection import train_test_split\n",
        "X_train, X_test, y_train, y_test = train_test_split(df1[columns_selection], df1['Primary Type'], test_size=0.2)"
      ]
    },
    {
      "cell_type": "markdown",
      "metadata": {
        "id": "49Clox1ohpJw"
      },
      "source": [
        "                                    KNN Classifier Model Building"
      ]
    },
    {
      "cell_type": "markdown",
      "metadata": {
        "id": "iQBtPgGyhpJw"
      },
      "source": [
        "                                     Taking the value of k as 5"
      ]
    },
    {
      "cell_type": "code",
      "execution_count": null,
      "metadata": {
        "id": "DK3g6OXihpJw",
        "outputId": "45bb7638-0347-4b08-8399-d88a94ed66e9"
      },
      "outputs": [
        {
          "name": "stdout",
          "output_type": "stream",
          "text": [
            "Testing accuracy  0.46850270960182455\n",
            "Accuracy  0.2724780931178494\n",
            "F1 score  0.26023919445754157\n"
          ]
        }
      ],
      "source": [
        "knn_5 = KNeighborsClassifier(n_neighbors=5)\n",
        "knn_5.fit(X_train,y_train)\n",
        "pred_train = knn_5.predict(X_train)\n",
        "pred_i = knn_5.predict(X_test)\n",
        "print('Testing accuracy ', metrics.accuracy_score(y_train, pred_train))\n",
        "print('Accuracy ', metrics.accuracy_score(y_test, pred_i))\n",
        "print('F1 score ', metrics.f1_score(y_test, pred_i, average = 'weighted'))"
      ]
    },
    {
      "cell_type": "code",
      "execution_count": null,
      "metadata": {
        "id": "ucAFF3LYhpJx",
        "outputId": "27cd16ad-8dc4-430b-bfa2-f40140ce3b72"
      },
      "outputs": [
        {
          "name": "stdout",
          "output_type": "stream",
          "text": [
            "Testing accuracy  0.3771347268428431\n",
            "Accuracy  0.3125842170015818\n",
            "F1 score  0.27458966600976864\n"
          ]
        }
      ],
      "source": [
        "knn_5 = KNeighborsClassifier(n_neighbors=20)\n",
        "knn_5.fit(X_train,y_train)\n",
        "pred_train = knn_5.predict(X_train)\n",
        "pred_i = knn_5.predict(X_test)\n",
        "print('Testing accuracy ', metrics.accuracy_score(y_train, pred_train))\n",
        "print('Accuracy ', metrics.accuracy_score(y_test, pred_i))\n",
        "print('F1 score ', metrics.f1_score(y_test, pred_i, average = 'weighted'))"
      ]
    },
    {
      "cell_type": "code",
      "execution_count": null,
      "metadata": {
        "id": "GjCCz-EshpJx",
        "outputId": "6d44234d-5f47-4fe5-d296-cfd11ac0c8e5"
      },
      "outputs": [
        {
          "name": "stdout",
          "output_type": "stream",
          "text": [
            "Neighbours  10\n",
            "Test accuracy  0.41161048689138574\n",
            "Accuracy  0.2958245105998343\n",
            "F1 score  0.27148736328671036\n",
            "Neighbours  15\n",
            "Test accuracy  0.38950160065281525\n",
            "Accuracy  0.30645363775599876\n",
            "F1 score  0.2738500277174768\n",
            "Neighbours  20\n",
            "Test accuracy  0.3780815182139644\n",
            "Accuracy  0.3129148079643129\n",
            "F1 score  0.2751242552304702\n",
            "Neighbours  25\n",
            "Test accuracy  0.36991191178624483\n",
            "Accuracy  0.3174552028322021\n",
            "F1 score  0.2752984311410973\n",
            "Neighbours  30\n",
            "Test accuracy  0.36486933232900215\n",
            "Accuracy  0.32039704393093577\n",
            "F1 score  0.274804864897689\n",
            "Neighbours  35\n",
            "Test accuracy  0.3608227146234804\n",
            "Accuracy  0.32268188779993806\n",
            "F1 score  0.27448541830030493\n",
            "Neighbours  40\n",
            "Test accuracy  0.3579007386018873\n",
            "Accuracy  0.323569043294862\n",
            "F1 score  0.27318191365945654\n",
            "Neighbours  45\n",
            "Test accuracy  0.35578745841441217\n",
            "Accuracy  0.3243097344392089\n",
            "F1 score  0.2720793447614696\n"
          ]
        }
      ],
      "source": [
        "error_rate = []\n",
        "\n",
        "krange = range(10,50,5)\n",
        "for i in krange:\n",
        "\n",
        " knn = KNeighborsClassifier(n_neighbors=i, metric='manhattan', weights = 'uniform',n_jobs= -1) # haversine - if only lat long\n",
        " knn.fit(X_train,y_train)\n",
        " pred_train = knn.predict(X_train)\n",
        " pred_i = knn.predict(X_test)\n",
        " error_rate.append(np.mean(pred_i != y_test))\n",
        " print('Neighbours ',i)\n",
        " print('Test accuracy ', metrics.accuracy_score(y_train, pred_train))\n",
        " print('Accuracy ', metrics.accuracy_score(y_test, pred_i))\n",
        " print('F1 score ', metrics.f1_score(y_test, pred_i, average = 'weighted'))"
      ]
    },
    {
      "cell_type": "code",
      "execution_count": null,
      "metadata": {
        "scrolled": true,
        "id": "xOsEWeFehpJx",
        "outputId": "52832cf4-fe5b-43ab-ca05-0f850a670558"
      },
      "outputs": [
        {
          "data": {
            "text/plain": [
              "Text(0, 0.5, 'Error Rate')"
            ]
          },
          "execution_count": 59,
          "metadata": {},
          "output_type": "execute_result"
        },
        {
          "data": {
            "image/png": "[encoded data removed]",
            "text/plain": [
              "<Figure size 720x432 with 1 Axes>"
            ]
          },
          "metadata": {
            "needs_background": "light"
          },
          "output_type": "display_data"
        }
      ],
      "source": [
        "plt.figure(figsize=(10,6))\n",
        "\n",
        "plt.plot(krange,error_rate, color= 'red', linestyle= 'dotted', marker= 'o', markerfacecolor='red', markersize=1)\n",
        "plt.title('Error Rate vs. K Value')\n",
        "plt.xlabel('K Value')\n",
        "plt.ylabel('Error Rate')"
      ]
    },
    {
      "cell_type": "markdown",
      "metadata": {
        "id": "vGDOARYzhpJx"
      },
      "source": [
        "                                        K = 25 gives us the optimum answer"
      ]
    }
  ],
  "metadata": {
    "kernelspec": {
      "display_name": "Python 3",
      "language": "python",
      "name": "python3"
    },
    "language_info": {
      "codemirror_mode": {
        "name": "ipython",
        "version": 3
      },
      "file_extension": ".py",
      "mimetype": "text/x-python",
      "name": "python",
      "nbconvert_exporter": "python",
      "pygments_lexer": "ipython3",
      "version": "3.8.5"
    },
    "colab": {
      "provenance": [],
      "include_colab_link": true
    }
  },
  "nbformat": 4,
  "nbformat_minor": 0
}